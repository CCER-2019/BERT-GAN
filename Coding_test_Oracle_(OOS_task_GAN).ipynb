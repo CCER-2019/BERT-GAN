{
  "nbformat": 4,
  "nbformat_minor": 0,
  "metadata": {
    "colab": {
      "name": "Coding test Oracle (OOS task - GAN).ipynb",
      "provenance": [],
      "collapsed_sections": [],
      "authorship_tag": "ABX9TyNo8BKv1vTzgpUAzpZSSk98",
      "include_colab_link": true
    },
    "kernelspec": {
      "name": "python3",
      "display_name": "Python 3"
    },
    "accelerator": "GPU"
  },
  "cells": [
    {
      "cell_type": "markdown",
      "metadata": {
        "id": "view-in-github",
        "colab_type": "text"
      },
      "source": [
        "<a href=\"https://colab.research.google.com/github/farbodtaymouri/BERT-GAN/blob/main/Coding_test_Oracle_(OOS_task_GAN).ipynb\" target=\"_parent\"><img src=\"https://colab.research.google.com/assets/colab-badge.svg\" alt=\"Open In Colab\"/></a>"
      ]
    },
    {
      "cell_type": "code",
      "metadata": {
        "id": "q9AMdYtKAjHL"
      },
      "source": [
        "from __future__ import print_function, division\n",
        "import os\n",
        "import torch\n",
        "import pandas as pd\n",
        "from skimage import io, transform\n",
        "import numpy as np\n",
        "import matplotlib.pyplot as plt\n",
        "from torch.utils.data import Dataset, DataLoader, TensorDataset\n",
        "from torch.utils.data import DataLoader, RandomSampler, SequentialSampler\n",
        "from torchvision import transforms, utils\n",
        "import torch.nn as nn\n",
        "from scipy.special import softmax\n",
        "import torchvision\n",
        "from torch.autograd import Variable\n",
        "from sklearn.decomposition import PCA\n",
        "import seaborn as sns\n",
        "from tqdm import tqdm\n",
        "from sklearn.metrics import accuracy_score\n",
        "from sklearn.manifold import TSNE\n",
        "import torchvision\n",
        "import torchvision.transforms as transforms\n",
        "import matplotlib.pyplot as plt\n",
        "import numpy as np\n",
        "np.set_printoptions(linewidth=1000)\n",
        "import torch.nn as nn\n",
        "import torch.nn.functional as F\n",
        "import torch.optim as optim\n",
        "import torch.nn.init  as init\n",
        "import pandas as pd\n",
        "import random\n",
        "import pprint\n",
        "from torch.nn.utils.rnn import pad_sequence\n",
        "from sklearn.metrics import precision_recall_fscore_support\n",
        "from sklearn.metrics import recall_score\n",
        "import urllib.request, json \n",
        "import urllib, json\n",
        "device=torch.device('cuda:0')\n",
        "plt.style.use('ggplot')"
      ],
      "execution_count": null,
      "outputs": []
    },
    {
      "cell_type": "code",
      "metadata": {
        "id": "Htpr_hsbCw4m"
      },
      "source": [
        "!pip install transformers\n",
        "!pip install -U sentence-transformers\n",
        "from torchtext.data import Field, TabularDataset, BucketIterator, Iterator\n",
        "from transformers import  AdamW, get_linear_schedule_with_warmup\n",
        "from transformers import BertTokenizer, BertForSequenceClassification\n",
        "from sentence_transformers import SentenceTransformer\n",
        "tokenizer = BertTokenizer.from_pretrained('bert-base-uncased')"
      ],
      "execution_count": null,
      "outputs": []
    },
    {
      "cell_type": "code",
      "metadata": {
        "id": "4EqPel1DtgJ8"
      },
      "source": [
        "# Set the seed value all over the place to make this reproducible.\n",
        "seed_val = 100\n",
        "random.seed(seed_val)\n",
        "np.random.seed(seed_val)\n",
        "torch.manual_seed(seed_val)\n",
        "torch.cuda.manual_seed_all(seed_val)"
      ],
      "execution_count": null,
      "outputs": []
    },
    {
      "cell_type": "code",
      "metadata": {
        "id": "SVx2U6jJVbQq",
        "outputId": "36fc0847-ec6d-4bfd-d985-1a9218af4d86",
        "colab": {
          "base_uri": "https://localhost:8080/",
          "height": 384
        }
      },
      "source": [
        "gpu_info = !nvidia-smi\n",
        "gpu_info = '\\n'.join(gpu_info)\n",
        "if gpu_info.find('failed') >= 0:\n",
        "  print('Select the Runtime > \"Change runtime type\" menu to enable a GPU accelerator, ')\n",
        "  print('and then re-execute this cell.')\n",
        "else:\n",
        "  print(gpu_info)\n",
        "\n",
        "import warnings\n",
        "warnings.filterwarnings('ignore')"
      ],
      "execution_count": null,
      "outputs": [
        {
          "output_type": "stream",
          "text": [
            "Sat Oct 17 07:49:05 2020       \n",
            "+-----------------------------------------------------------------------------+\n",
            "| NVIDIA-SMI 455.23.05    Driver Version: 418.67       CUDA Version: 10.1     |\n",
            "|-------------------------------+----------------------+----------------------+\n",
            "| GPU  Name        Persistence-M| Bus-Id        Disp.A | Volatile Uncorr. ECC |\n",
            "| Fan  Temp  Perf  Pwr:Usage/Cap|         Memory-Usage | GPU-Util  Compute M. |\n",
            "|                               |                      |               MIG M. |\n",
            "|===============================+======================+======================|\n",
            "|   0  Tesla V100-SXM2...  Off  | 00000000:00:04.0 Off |                    0 |\n",
            "| N/A   31C    P0    22W / 300W |     10MiB / 16130MiB |      0%      Default |\n",
            "|                               |                      |                 ERR! |\n",
            "+-------------------------------+----------------------+----------------------+\n",
            "                                                                               \n",
            "+-----------------------------------------------------------------------------+\n",
            "| Processes:                                                                  |\n",
            "|  GPU   GI   CI        PID   Type   Process name                  GPU Memory |\n",
            "|        ID   ID                                                   Usage      |\n",
            "|=============================================================================|\n",
            "|  No running processes found                                                 |\n",
            "+-----------------------------------------------------------------------------+\n"
          ],
          "name": "stdout"
        }
      ]
    },
    {
      "cell_type": "code",
      "metadata": {
        "id": "FOhz9qwrWw9x",
        "outputId": "fda8307c-cdd2-4707-e08d-f16e66156a69",
        "colab": {
          "base_uri": "https://localhost:8080/",
          "height": 35
        }
      },
      "source": [
        "#Loading custom libraries\n",
        "import sys\n",
        "sys.path.append('/content/drive/My Drive/Deep Learing project')\n",
        "from google.colab import drive\n",
        "drive.mount('/content/drive')"
      ],
      "execution_count": null,
      "outputs": [
        {
          "output_type": "stream",
          "text": [
            "Mounted at /content/drive\n"
          ],
          "name": "stdout"
        }
      ]
    },
    {
      "cell_type": "code",
      "metadata": {
        "id": "GNOuSnFRA-mZ"
      },
      "source": [
        "#Reading Json file\n",
        "with urllib.request.urlopen('https://raw.githubusercontent.com/clinc/oos-eval/master/data/data_imbalanced.json') as url:\n",
        "    data = json.loads(url.read().decode())\n",
        "    print(data)\n",
        "\n"
      ],
      "execution_count": null,
      "outputs": []
    },
    {
      "cell_type": "code",
      "metadata": {
        "id": "p_AaZ__SKZFl",
        "outputId": "a68449b1-52af-4443-cb4e-aa2ea06d7cd3",
        "colab": {
          "base_uri": "https://localhost:8080/",
          "height": 497
        }
      },
      "source": [
        "#Converting lists to pandas dataframe (creating unique category to numeric class labels)\n",
        "def list_to_df(train,test,valid):\n",
        "  tot_list = train+test+valid\n",
        "  df = pd.DataFrame (tot_list,columns=['content', 'label'])\n",
        "  num_labels = len(df['label'].unique())\n",
        "  #Creating numerical class value\n",
        "  df['label_num'] = pd.factorize(df.label)[0]\n",
        "\n",
        "  train_df = df[0:len(train)]\n",
        "  test_df = df[len(train): len(train)+len(test)]\n",
        "  val_df = df[len(train)+len(test): len(train)+len(test)+len(valid)]\n",
        "\n",
        "  return train_df, test_df, val_df, num_labels \n",
        "\n",
        "train_df, test_df, val_df, num_labels = list_to_df(data['oos_train']+data['train'], data['oos_test']+data['test'], data['oos_val']+data['val'])\n",
        "\n",
        "\n",
        "oos_train_df = train_df[0:len(data['oos_train'])]\n",
        "oos_test_df = test_df[0:len(data['oos_test'])]\n",
        "oos_val_df = val_df[0:len(data['oos_val'])]\n",
        "test_df = test_df[len(data['oos_test']):]\n",
        "val_df = val_df[len(data['oos_val']):]\n",
        "\n",
        "\n",
        "print(\"The number of classes:\", num_labels)\n",
        "print(\"Dim of train:\", train_df.shape)\n",
        "print(\"Dim of valid:\", val_df.shape)\n",
        "print(\"Dim of test\", test_df.shape)\n",
        "train_df.head(100)\n"
      ],
      "execution_count": null,
      "outputs": [
        {
          "output_type": "stream",
          "text": [
            "The number of classes: 151\n",
            "Dim of train: (10625, 3)\n",
            "Dim of valid: (3000, 3)\n",
            "Dim of test (4500, 3)\n"
          ],
          "name": "stdout"
        },
        {
          "output_type": "execute_result",
          "data": {
            "text/html": [
              "<div>\n",
              "<style scoped>\n",
              "    .dataframe tbody tr th:only-of-type {\n",
              "        vertical-align: middle;\n",
              "    }\n",
              "\n",
              "    .dataframe tbody tr th {\n",
              "        vertical-align: top;\n",
              "    }\n",
              "\n",
              "    .dataframe thead th {\n",
              "        text-align: right;\n",
              "    }\n",
              "</style>\n",
              "<table border=\"1\" class=\"dataframe\">\n",
              "  <thead>\n",
              "    <tr style=\"text-align: right;\">\n",
              "      <th></th>\n",
              "      <th>content</th>\n",
              "      <th>label</th>\n",
              "      <th>label_num</th>\n",
              "    </tr>\n",
              "  </thead>\n",
              "  <tbody>\n",
              "    <tr>\n",
              "      <th>0</th>\n",
              "      <td>how much is an overdraft fee for bank</td>\n",
              "      <td>oos</td>\n",
              "      <td>0</td>\n",
              "    </tr>\n",
              "    <tr>\n",
              "      <th>1</th>\n",
              "      <td>why are exponents preformed before multiplicat...</td>\n",
              "      <td>oos</td>\n",
              "      <td>0</td>\n",
              "    </tr>\n",
              "    <tr>\n",
              "      <th>2</th>\n",
              "      <td>what size wipers does this car take</td>\n",
              "      <td>oos</td>\n",
              "      <td>0</td>\n",
              "    </tr>\n",
              "    <tr>\n",
              "      <th>3</th>\n",
              "      <td>where is the dipstick</td>\n",
              "      <td>oos</td>\n",
              "      <td>0</td>\n",
              "    </tr>\n",
              "    <tr>\n",
              "      <th>4</th>\n",
              "      <td>how much is 1 share of aapl</td>\n",
              "      <td>oos</td>\n",
              "      <td>0</td>\n",
              "    </tr>\n",
              "    <tr>\n",
              "      <th>...</th>\n",
              "      <td>...</td>\n",
              "      <td>...</td>\n",
              "      <td>...</td>\n",
              "    </tr>\n",
              "    <tr>\n",
              "      <th>95</th>\n",
              "      <td>what percentage of species display cold bloode...</td>\n",
              "      <td>oos</td>\n",
              "      <td>0</td>\n",
              "    </tr>\n",
              "    <tr>\n",
              "      <th>96</th>\n",
              "      <td>what does it mean to be an alpha male</td>\n",
              "      <td>oos</td>\n",
              "      <td>0</td>\n",
              "    </tr>\n",
              "    <tr>\n",
              "      <th>97</th>\n",
              "      <td>what animals have alpha males</td>\n",
              "      <td>oos</td>\n",
              "      <td>0</td>\n",
              "    </tr>\n",
              "    <tr>\n",
              "      <th>98</th>\n",
              "      <td>why do males want to be alpha</td>\n",
              "      <td>oos</td>\n",
              "      <td>0</td>\n",
              "    </tr>\n",
              "    <tr>\n",
              "      <th>99</th>\n",
              "      <td>what's the average battery life of an android ...</td>\n",
              "      <td>oos</td>\n",
              "      <td>0</td>\n",
              "    </tr>\n",
              "  </tbody>\n",
              "</table>\n",
              "<p>100 rows × 3 columns</p>\n",
              "</div>"
            ],
            "text/plain": [
              "                                              content label  label_num\n",
              "0               how much is an overdraft fee for bank   oos          0\n",
              "1   why are exponents preformed before multiplicat...   oos          0\n",
              "2                 what size wipers does this car take   oos          0\n",
              "3                               where is the dipstick   oos          0\n",
              "4                         how much is 1 share of aapl   oos          0\n",
              "..                                                ...   ...        ...\n",
              "95  what percentage of species display cold bloode...   oos          0\n",
              "96              what does it mean to be an alpha male   oos          0\n",
              "97                      what animals have alpha males   oos          0\n",
              "98                      why do males want to be alpha   oos          0\n",
              "99  what's the average battery life of an android ...   oos          0\n",
              "\n",
              "[100 rows x 3 columns]"
            ]
          },
          "metadata": {
            "tags": []
          },
          "execution_count": 7
        }
      ]
    },
    {
      "cell_type": "code",
      "metadata": {
        "id": "PYyQ8Pe7rDmB",
        "outputId": "13e207fa-1dd5-4596-8502-d808e4071db5",
        "colab": {
          "base_uri": "https://localhost:8080/",
          "height": 283
        }
      },
      "source": [
        "#Class distributions across train.test, and validation sets\n",
        "train_df['label_num'].hist()\n",
        "test_df['label_num'].hist()\n",
        "val_df['label_num'].hist()"
      ],
      "execution_count": null,
      "outputs": [
        {
          "output_type": "execute_result",
          "data": {
            "text/plain": [
              "<matplotlib.axes._subplots.AxesSubplot at 0x7f2159d1afd0>"
            ]
          },
          "metadata": {
            "tags": []
          },
          "execution_count": 5
        },
        {
          "output_type": "display_data",
          "data": {
            "image/png": "[encoded data removed]",
            "text/plain": [
              "<Figure size 432x288 with 1 Axes>"
            ]
          },
          "metadata": {
            "tags": [],
            "needs_background": "light"
          }
        }
      ]
    },
    {
      "cell_type": "code",
      "metadata": {
        "id": "nBJIh15iujZl"
      },
      "source": [
        "#Getting some insights about the sequence lengths\n",
        "token_lens = []\n",
        "tokens_list =[]\n",
        "\n",
        "for txt in data['train']:\n",
        "  tokens = tokenizer.encode(txt[0], truncation='only_first', max_length=50)\n",
        "  token_lens.append(len(tokens))\n",
        "  tokens_list.append(tokens)"
      ],
      "execution_count": null,
      "outputs": []
    },
    {
      "cell_type": "code",
      "metadata": {
        "id": "0C66yHjGN5Ju",
        "outputId": "9236e3bb-bed8-4f48-fab1-e0b0ea5623b0",
        "colab": {
          "base_uri": "https://localhost:8080/",
          "height": 357
        }
      },
      "source": [
        "data['train']\n",
        "sns.distplot(token_lens)\n",
        "plt.xlim([0, 256]);\n",
        "plt.xlabel('Token count');"
      ],
      "execution_count": null,
      "outputs": [
        {
          "output_type": "stream",
          "text": [
            "/usr/local/lib/python3.6/dist-packages/seaborn/distributions.py:2551: FutureWarning: `distplot` is a deprecated function and will be removed in a future version. Please adapt your code to use either `displot` (a figure-level function with similar flexibility) or `histplot` (an axes-level function for histograms).\n",
            "  warnings.warn(msg, FutureWarning)\n"
          ],
          "name": "stderr"
        },
        {
          "output_type": "execute_result",
          "data": {
            "text/plain": [
              "33"
            ]
          },
          "metadata": {
            "tags": []
          },
          "execution_count": 70
        },
        {
          "output_type": "display_data",
          "data": {
            "image/png": "[encoded data removed]",
            "text/plain": [
              "<Figure size 432x288 with 1 Axes>"
            ]
          },
          "metadata": {
            "tags": [],
            "needs_background": "light"
          }
        }
      ]
    },
    {
      "cell_type": "code",
      "metadata": {
        "id": "2qWK4XzFcq_N",
        "outputId": "b67e92ed-f526-48e1-ae13-f0bb77f9fff8",
        "colab": {
          "base_uri": "https://localhost:8080/",
          "height": 35
        }
      },
      "source": [
        "# from sentence_transformers import SentenceTransformer\n",
        "# model_transformer = SentenceTransformer('distilbert-base-nli-mean-tokens')"
      ],
      "execution_count": null,
      "outputs": [
        {
          "output_type": "stream",
          "text": [
            "100%|██████████| 245M/245M [00:03<00:00, 66.5MB/s]\n"
          ],
          "name": "stderr"
        }
      ]
    },
    {
      "cell_type": "code",
      "metadata": {
        "id": "UgrAcduunNx7"
      },
      "source": [
        "#Data model class class\n",
        "class IntentDataset(Dataset):\n",
        "\n",
        "  def __init__(self, reviews, targets, model):\n",
        "    self.reviews = reviews  #A request\n",
        "    self.targets = targets  # An Intent\n",
        "    self.model = model\n",
        "    # self.max_len = max_len\n",
        "    # self.encoding =''\n",
        "\n",
        "  def __len__(self):\n",
        "    return len(self.reviews)\n",
        "\n",
        "  def __getitem__(self, item):\n",
        "    review = str(self.reviews[item])\n",
        "    target = self.targets[item]\n",
        "    encoding = self.model.encode(\n",
        "      review\n",
        "    )\n",
        "    return {\n",
        "      #'review_text': review,\n",
        "      #'input_ids': encoding['input_ids'].flatten(),\n",
        "      'input_encoding': encoding,\n",
        "      # 'attention_mask': encoding['attention_mask'].flatten(),\n",
        "      # 'token_type_ids' : encoding['token_type_ids'].flatten(),\n",
        "      'targets': torch.tensor(target, dtype=torch.long)\n",
        "\n",
        "    }\n",
        "#-----------------------------------------------\n",
        "def create_data_loader(df, model, batch_size):\n",
        "  ds = IntentDataset(\n",
        "    reviews=df.content.to_numpy(),\n",
        "    targets=df.label_num.to_numpy(),\n",
        "    model=model,\n",
        "  )\n",
        "\n",
        "  #Returning a Pytorch tensor\n",
        "  return DataLoader(\n",
        "    ds,\n",
        "    batch_size=batch_size,\n",
        "    sampler = RandomSampler(ds), # Select batches randomly\n",
        "    #num_workers=1\n",
        "  )"
      ],
      "execution_count": null,
      "outputs": []
    },
    {
      "cell_type": "code",
      "metadata": {
        "id": "oEsZrGRIoX0f",
        "outputId": "03725fae-1d6a-477e-b387-273710c4fdae",
        "colab": {
          "base_uri": "https://localhost:8080/",
          "height": 146
        }
      },
      "source": [
        "BATCH_SIZE = 16\n",
        "oos_train_loader = create_data_loader(oos_train_df, model_transformer, BATCH_SIZE)\n",
        "oos_val_loader = create_data_loader(oos_val_df, model_transformer, BATCH_SIZE)\n",
        "oos_test_loader = create_data_loader(oos_test_df, model_transformer, BATCH_SIZE)\n",
        "\n",
        "\n",
        "#train_loader = create_data_loader(train_df, model_transformer, BATCH_SIZE)\n",
        "train_loader = create_data_loader(pd.concat([train_df,oos_train_df]), model_transformer, BATCH_SIZE)\n",
        "test_loader = create_data_loader(test_df, model_transformer, BATCH_SIZE)\n",
        "val_loader = create_data_loader(val_df, model_transformer, BATCH_SIZE)\n",
        "\n",
        "\n",
        "\n",
        "for uu in iter(oos_val_loader):\n",
        "  print(uu)\n",
        "  break"
      ],
      "execution_count": null,
      "outputs": [
        {
          "output_type": "stream",
          "text": [
            "{'input_encoding': tensor([[-0.4466, -0.2756,  0.9217,  ...,  0.0088,  0.1712, -0.3055],\n",
            "        [-0.5033, -0.2373,  0.4186,  ..., -0.9966,  0.9704,  0.1359],\n",
            "        [ 0.0518, -0.2273,  0.1653,  ..., -0.2699, -0.0180, -1.0245],\n",
            "        ...,\n",
            "        [-0.9173, -0.0716,  0.6236,  ..., -0.9865,  0.0687, -0.1510],\n",
            "        [-0.7063,  0.0363,  1.0469,  ..., -0.0869, -0.1040, -0.7456],\n",
            "        [-0.7840, -0.5291,  0.2478,  ..., -0.3310,  0.0958,  0.0316]]), 'targets': tensor([0, 0, 0, 0, 0, 0, 0, 0, 0, 0, 0, 0, 0, 0, 0, 0])}\n"
          ],
          "name": "stdout"
        }
      ]
    },
    {
      "cell_type": "code",
      "metadata": {
        "id": "mfe5V1miuE3T"
      },
      "source": [
        "class Generator(nn.Module):\n",
        "\n",
        "    def __init__(self, input_length: int):\n",
        "        super(Generator, self).__init__()\n",
        "        self.dense_layer1 = nn.Linear(int(input_length), 2*int(input_length))  #Input length is the dimension of embedding\n",
        "        self.dense_layer2 = nn.Linear(2*int(input_length), int(input_length))\n",
        "        self.activation = nn.ReLU()\n",
        "\n",
        "    def forward(self, x):\n",
        "        x= self.activation(self.dense_layer1(x))\n",
        "        x = self.dense_layer2(x)\n",
        "        return x\n",
        "\n",
        "class Discriminator(nn.Module):\n",
        "    def __init__(self, input_length: int):\n",
        "        super(Discriminator, self).__init__()\n",
        "        self.dense = nn.Linear(int(input_length), 1);\n",
        "        self.activation = nn.Sigmoid()\n",
        "\n",
        "    def forward(self, x):\n",
        "        return self.activation(self.dense(x))"
      ],
      "execution_count": null,
      "outputs": []
    },
    {
      "cell_type": "code",
      "metadata": {
        "id": "hU0ADG2FspCl"
      },
      "source": [
        "#Input dimension\n",
        "input_length = next(iter(oos_train_loader))['input_encoding'].size()[1]\n",
        "EPOCHS=100\n",
        "\n",
        "# Models\n",
        "generator = Generator(input_length)\n",
        "discriminator = Discriminator(input_length)\n",
        "\n",
        "# Optimizers\n",
        "generator_optimizer = torch.optim.Adam(generator.parameters(), lr=0.001)\n",
        "discriminator_optimizer = torch.optim.Adam(discriminator.parameters(), lr=0.001)\n",
        "\n",
        "# loss\n",
        "loss = nn.BCELoss()\n"
      ],
      "execution_count": null,
      "outputs": []
    },
    {
      "cell_type": "code",
      "metadata": {
        "id": "Jrxep0s2wUr1",
        "outputId": "b8a8d6b4-d0aa-443e-87a3-b83002632a84",
        "colab": {
          "base_uri": "https://localhost:8080/",
          "height": 35
        }
      },
      "source": [
        "\n",
        "gen_loss_tot=[]\n",
        "disc_loss_tot=[]\n",
        "\n",
        "for i in tqdm(range(EPOCHS)):\n",
        "  gen_loss=0\n",
        "  disc_loss=0\n",
        "  for mini_batch in iter(oos_train_loader):\n",
        "    true_data = mini_batch['input_encoding']\n",
        "    true_labels = mini_batch['targets']\n",
        "    true_labels = torch.ones(size = true_labels.size())   #Real labels are 1\n",
        "\n",
        "    # Create noisy input for generator\n",
        "    noise = torch.normal(mean=0, std=1.0, size=(true_data.size()[0], input_length)) \n",
        "    generated_data = generator(noise)\n",
        "    fake_label =  torch.zeros(size = true_labels.size())   #Fake labels are 0\n",
        "\n",
        "\n",
        "\n",
        "    # zero the gradients on each iteration\n",
        "    generator_optimizer.zero_grad()\n",
        "\n",
        "\n",
        "    # Train the generator\n",
        "    # We invert the labels here and don't train the discriminator because we want the generator\n",
        "    # to make things the discriminator classifies as true.\n",
        "    generator_discriminator_out = discriminator(generated_data)\n",
        "    generator_loss = loss(generator_discriminator_out, true_labels)\n",
        "    generator_loss.backward()\n",
        "    generator_optimizer.step()\n",
        "    \n",
        "    gen_loss += generator_loss.tolist()\n",
        "\n",
        "\n",
        "    # Train the discriminator on the true/generated data\n",
        "    discriminator_optimizer.zero_grad()\n",
        "    true_discriminator_out = discriminator(true_data)\n",
        "    true_discriminator_loss = loss(true_discriminator_out, true_labels)\n",
        "    \n",
        "\n",
        "    # add .detach() here think about this\n",
        "    generator_discriminator_out = discriminator(generated_data.detach())\n",
        "    generator_discriminator_loss = loss(generator_discriminator_out, torch.zeros(true_data.size()[0]))\n",
        "    discriminator_loss = (true_discriminator_loss + generator_discriminator_loss) / 2\n",
        "    discriminator_loss.backward()\n",
        "    discriminator_optimizer.step()\n",
        "\n",
        "    disc_loss += discriminator_loss.tolist()\n",
        "  gen_loss_tot.append(np.mean(gen_loss))\n",
        "  disc_loss_tot.append(np.mean(disc_loss))\n",
        "  #break"
      ],
      "execution_count": null,
      "outputs": [
        {
          "output_type": "stream",
          "text": [
            "100%|██████████| 100/100 [01:35<00:00,  1.05it/s]\n"
          ],
          "name": "stderr"
        }
      ]
    },
    {
      "cell_type": "code",
      "metadata": {
        "id": "8RGALBon4KYq"
      },
      "source": [
        "gen_loss_tot"
      ],
      "execution_count": null,
      "outputs": []
    },
    {
      "cell_type": "code",
      "metadata": {
        "id": "IeYoX07n4rej",
        "outputId": "3dc69678-f68d-4e23-f398-81dff3031d00",
        "colab": {
          "base_uri": "https://localhost:8080/",
          "height": 346
        }
      },
      "source": [
        "plt.plot(range(1, EPOCHS+1), gen_loss_tot , label='Generator_loss')\n",
        "plt.plot(range(1, EPOCHS+1), disc_loss_tot , label= 'Discriminator_loss')\n",
        "\n",
        "plt.yticks(fontsize=30)\n",
        "plt.xticks(fontsize=30)\n",
        "plt.xlabel('Epoch', fontsize=20)\n",
        "plt.ylabel('Loss', fontsize=20)\n",
        "plt.legend(prop={'size': 17})\n",
        "plt.figure()"
      ],
      "execution_count": null,
      "outputs": [
        {
          "output_type": "execute_result",
          "data": {
            "text/plain": [
              "<Figure size 432x288 with 0 Axes>"
            ]
          },
          "metadata": {
            "tags": []
          },
          "execution_count": 18
        },
        {
          "output_type": "display_data",
          "data": {
            "image/png": "[encoded data removed]",
            "text/plain": [
              "<Figure size 432x288 with 1 Axes>"
            ]
          },
          "metadata": {
            "tags": [],
            "needs_background": "light"
          }
        },
        {
          "output_type": "display_data",
          "data": {
            "text/plain": [
              "<Figure size 432x288 with 0 Axes>"
            ]
          },
          "metadata": {
            "tags": []
          }
        }
      ]
    },
    {
      "cell_type": "code",
      "metadata": {
        "id": "UrS16Zh0UTMT"
      },
      "source": [
        "#Comparing the generates samples and real ones\n",
        "from sklearn.manifold import TSNE\n",
        "from sklearn.decomposition import PCA\n",
        "real_data=[]\n",
        "synthetic_sample_size=2000\n",
        "for d in iter(oos_train_loader):\n",
        "  real_data+=d['input_encoding'].tolist()\n",
        "\n",
        "real_data = np.array(real_data)\n",
        "\n",
        "noise = torch.normal(mean=0, std=1.0, size=(synthetic_sample_size, input_length)) \n",
        "generated_data = generator(noise)\n",
        "\n",
        "\n"
      ],
      "execution_count": null,
      "outputs": []
    },
    {
      "cell_type": "code",
      "metadata": {
        "id": "uQgSpEg7ZIgo"
      },
      "source": [
        "real_data = pd.DataFrame(real_data)\n",
        "real_data['label'] = 'real'\n",
        "\n",
        "generated_data = pd.DataFrame(generated_data.detach().numpy())\n",
        "generated_data['label'] = 'fake'\n",
        "\n",
        "real_fake_data = pd.concat([real_data, generated_data])\n",
        "X_embedded = TSNE(n_components=2).fit_transform(real_fake_data.loc[:, real_fake_data.columns != 'label'])\n"
      ],
      "execution_count": null,
      "outputs": []
    },
    {
      "cell_type": "code",
      "metadata": {
        "id": "ts_FfVhuXxR5",
        "outputId": "c99aa289-532b-42de-8d6f-993219b7c777",
        "colab": {
          "base_uri": "https://localhost:8080/",
          "height": 283
        }
      },
      "source": [
        "sns.scatterplot(X_embedded[:,0], X_embedded[:,1], legend='full', hue = 'label', data= real_fake_data)"
      ],
      "execution_count": null,
      "outputs": [
        {
          "output_type": "execute_result",
          "data": {
            "text/plain": [
              "<matplotlib.axes._subplots.AxesSubplot at 0x7f679ad384e0>"
            ]
          },
          "metadata": {
            "tags": []
          },
          "execution_count": 212
        },
        {
          "output_type": "display_data",
          "data": {
            "image/png": "[encoded data removed]",
            "text/plain": [
              "<Figure size 432x288 with 1 Axes>"
            ]
          },
          "metadata": {
            "tags": []
          }
        }
      ]
    },
    {
      "cell_type": "code",
      "metadata": {
        "id": "kajJjlsW7nN3"
      },
      "source": [
        "#Data model class \n",
        "class SyntheticIntentDataset(Dataset):\n",
        "\n",
        "  def __init__(self, noises, targets, model):\n",
        "    self.noises = noises  #A request\n",
        "    self.targets = targets  # An Intent\n",
        "    self.model = model\n",
        "    # self.max_len = max_len\n",
        "    # self.encoding =''\n",
        "\n",
        "  def __len__(self):\n",
        "    return len(self.noises)\n",
        "\n",
        "  def __getitem__(self, item):\n",
        "    noise = self.noises[item]\n",
        "    target = self.targets[item]\n",
        "    encoding = self.model(\n",
        "      noise\n",
        "    )\n",
        "    return {\n",
        "      #'review_text': review,\n",
        "      #'input_ids': encoding['input_ids'].flatten(),\n",
        "      'input_encoding': encoding,\n",
        "      # 'attention_mask': encoding['attention_mask'].flatten(),\n",
        "      # 'token_type_ids' : encoding['token_type_ids'].flatten(),\n",
        "      'targets': torch.tensor(target, dtype=torch.long)\n",
        "\n",
        "    }\n",
        "#-----------------------------------------------\n",
        "def create_data_loader(noises, targets, model, batch_size):\n",
        "  ds = SyntheticIntentDataset(\n",
        "    noises=noises,\n",
        "    targets=targets,\n",
        "    model=model,\n",
        "  )\n",
        "\n",
        "  #Returning a Pytorch tensor\n",
        "  return DataLoader(\n",
        "    ds,\n",
        "    batch_size=batch_size,\n",
        "    sampler = RandomSampler(ds), # Select batches randomly\n",
        "    #num_workers=1\n",
        "  )"
      ],
      "execution_count": null,
      "outputs": []
    },
    {
      "cell_type": "code",
      "metadata": {
        "id": "1VD1b23pDj-5",
        "outputId": "112b39ab-4d3c-4530-f747-5b04d40697e3",
        "colab": {
          "base_uri": "https://localhost:8080/",
          "height": 164
        }
      },
      "source": [
        "BATCH_SIZE = 16\n",
        "synthetic_sample_size = 200\n",
        "noises = torch.normal(mean=0, std=1.0, size=(synthetic_sample_size, input_length)) \n",
        "generated_loader = create_data_loader(noises, np.zeros((1,synthetic_sample_size))[0], generator, BATCH_SIZE)\n",
        "\n",
        "for uu in generated_loader:\n",
        "  print(uu)\n",
        "  break\n"
      ],
      "execution_count": null,
      "outputs": [
        {
          "output_type": "stream",
          "text": [
            "{'input_encoding': tensor([[ 18.3998, -36.7371,   6.0535,  ...,  -2.4196,   4.1026, -40.2218],\n",
            "        [ 18.3692, -36.1908,   5.9908,  ...,  -3.0056,   3.8879, -40.3311],\n",
            "        [ 13.1388, -27.7101,   4.7392,  ...,  -2.1982,   2.8346, -31.2114],\n",
            "        ...,\n",
            "        [ 16.3525, -35.0251,   5.7443,  ...,  -3.2479,   3.4210, -38.4231],\n",
            "        [ 17.3560, -33.9412,   6.3466,  ...,  -2.8286,   4.0624, -36.8791],\n",
            "        [ 18.2548, -36.4380,   6.9912,  ...,  -2.4064,   4.4183, -39.9004]],\n",
            "       grad_fn=<StackBackward>), 'targets': tensor([0, 0, 0, 0, 0, 0, 0, 0, 0, 0, 0, 0, 0, 0, 0, 0])}\n"
          ],
          "name": "stdout"
        }
      ]
    },
    {
      "cell_type": "code",
      "metadata": {
        "id": "_xaM0Zp2EUht"
      },
      "source": [
        "#Creating MLP for classification\n",
        "class MLP(nn.Module):\n",
        "  def __init__(self,embedding_size, num_labels ):\n",
        "        super().__init__()\n",
        "\n",
        "        \n",
        "        self.dense1 = nn.Linear(in_features= embedding_size, out_features= 500) \n",
        "        self.dense2 = nn.Linear(in_features= 500, out_features= num_labels) \n",
        "        self.activation= nn.ReLU()\n",
        "\n",
        "  def forward(self, x):\n",
        "        output = self.dense2 (self.activation(self.dense1(x)) )\n",
        " \n",
        "        return output\n",
        "\n",
        "mlp = MLP(input_length, num_labels)\n",
        "mlp.cuda()\n",
        "\n",
        "# Optimizers\n",
        "mlp_optimizer = torch.optim.Adam(mlp.parameters(), lr=0.001)\n",
        "\n",
        "# loss\n",
        "loss_mlp = nn.CrossEntropyLoss()\n"
      ],
      "execution_count": null,
      "outputs": []
    },
    {
      "cell_type": "code",
      "metadata": {
        "id": "GigvHTtrZyDH"
      },
      "source": [
        "losses=[]\n",
        "train_loss=[]\n",
        "val_loss_in=[]\n",
        "val_loss_oos=[]\n",
        "val_acc=[]\n",
        "recall_scores=[]\n",
        "EPOCHS =20\n",
        "for i in tqdm(range(EPOCHS)):\n",
        "  correct_predictions=0\n",
        "  total_predictions = 0\n",
        "  #Training on real and fake datasest\n",
        "  for data_loader in [train_loader, generated_loader]:\n",
        "  #for data_loader in [train_loader]:\n",
        "    for mini_batch in iter(data_loader):\n",
        "      x = mini_batch['input_encoding'].cuda()\n",
        "      intent_labels = mini_batch['targets'].cuda()\n",
        "\n",
        "\n",
        "      #Forward Propagation\n",
        "      mlp_optimizer.zero_grad()\n",
        "      outputs  = mlp(x)\n",
        "      #print(outputs.logits.size())\n",
        "\n",
        "\n",
        "      #Predicting the class lables\n",
        "      preds = torch.argmax(outputs, dim=1)\n",
        "\n",
        "\n",
        "      #Computing the loss function\n",
        "      loss = loss_mlp(outputs, intent_labels)\n",
        "\n",
        "      correct_predictions += torch.sum(preds == intent_labels)\n",
        "      total_predictions +=  len(intent_labels)\n",
        "      losses.append(loss.item())\n",
        "      #break\n",
        "\n",
        "      #Backward propagation\n",
        "      loss.backward()\n",
        "\n",
        "      #Update the weights\n",
        "      mlp_optimizer.step()\n",
        "\n",
        "  print(\"\\n The loss value on training:\", np.mean(losses))\n",
        "  print(\"correct predictions and total predictions:\", correct_predictions, total_predictions )\n",
        "  #print(\"Prediction accuracy on training:\", correct_predictions.double() / total_predictions )\n",
        "\n",
        "  if(i%1==0):\n",
        "    #Evaluating the model\n",
        "    loss_in, acc = model_eval(mlp, val_loader, 'In-Scope')\n",
        "    loss_oos, rec_score = model_eval(mlp, oos_val_loader, 'Out-Of-Scope')\n",
        "    val_loss_in.append(loss_in); val_loss_oos.append(loss_oos); val_acc.append(acc); train_loss.append(np.mean(losses)); recall_scores.append(rec_score)\n",
        "    mlp.train()\n",
        "\n",
        "    if(val_loss_in[-1] <= np.min(val_loss_in)  and val_loss_oos[-1] <= np.min(val_loss_oos) ):\n",
        "      print(\"Best model on validation is saved\")\n",
        "      torch.save(mlp.state_dict(),'/content/drive/My Drive/Deep Learing project/mlp(validation).m')\n",
        "\n"
      ],
      "execution_count": null,
      "outputs": []
    },
    {
      "cell_type": "code",
      "metadata": {
        "id": "UTRIgQ1ST3L7",
        "outputId": "546b2339-b424-47ae-cea5-a36bb0c2c9b7",
        "colab": {
          "base_uri": "https://localhost:8080/",
          "height": 393
        }
      },
      "source": [
        "print(train_loss)\n",
        "plt.plot(range(1, EPOCHS+1), val_loss_in, label = 'Validation_loss_In_S')\n",
        "plt.plot(range(1, EPOCHS+1), val_loss_oos, label = 'Validation_loss_Oos')\n",
        "plt.plot(range(1, EPOCHS+1), train_loss, label = 'train_loss')\n",
        "\n",
        "\n",
        "plt.yticks(fontsize=30)\n",
        "plt.xticks(np.arange(1,EPOCHS+1, step=2), fontsize=25, rotation = -45)\n",
        "plt.xlabel('Epoch', fontsize=20)\n",
        "plt.ylabel('Loss', fontsize=20)\n",
        "plt.legend(prop={'size': 17})\n",
        "#plt.title('BPI17',fontdict = {'fontsize' : 20})\n",
        "plt.figure()"
      ],
      "execution_count": null,
      "outputs": [
        {
          "output_type": "stream",
          "text": [
            "[1.2801756034931375, 0.8267915886452063, 0.6262267517958575, 0.5091279160334408, 0.43194857329654474, 0.3768432480187587, 0.3354036051430132, 0.30304967188888354, 0.2765886413270599, 0.25660138873403743, 0.23938030538138666, 0.22414214992999015, 0.21056139629567955, 0.19964686876130888, 0.19049300638094008, 0.18207043633518358, 0.1736902532825298, 0.16610638920246407, 0.1592938160118121, 0.1539442990539586]\n"
          ],
          "name": "stdout"
        },
        {
          "output_type": "execute_result",
          "data": {
            "text/plain": [
              "<Figure size 432x288 with 0 Axes>"
            ]
          },
          "metadata": {
            "tags": []
          },
          "execution_count": 114
        },
        {
          "output_type": "display_data",
          "data": {
            "image/png": "[encoded data removed]",
            "text/plain": [
              "<Figure size 432x288 with 1 Axes>"
            ]
          },
          "metadata": {
            "tags": []
          }
        },
        {
          "output_type": "display_data",
          "data": {
            "text/plain": [
              "<Figure size 432x288 with 0 Axes>"
            ]
          },
          "metadata": {
            "tags": []
          }
        }
      ]
    },
    {
      "cell_type": "code",
      "metadata": {
        "id": "_80NCCDHU4IT",
        "outputId": "a25eada5-2418-4956-8cd0-e2780b0c4610",
        "colab": {
          "base_uri": "https://localhost:8080/",
          "height": 393
        }
      },
      "source": [
        "print(train_loss)\n",
        "plt.plot(range(1, EPOCHS+1), val_acc, label = 'IS accuracy')\n",
        "plt.plot(range(1, EPOCHS+1), recall_scores, label = 'OOS Recall')\n",
        "\n",
        "\n",
        "plt.yticks(fontsize=30)\n",
        "plt.xticks(np.arange(1,EPOCHS+1, step=2), fontsize=25, rotation = -45)\n",
        "plt.xlabel('Epoch', fontsize=20)\n",
        "plt.ylabel('Performance', fontsize=20)\n",
        "plt.legend(prop={'size': 17})\n",
        "#plt.title('BPI17',fontdict = {'fontsize' : 20})\n",
        "plt.figure()"
      ],
      "execution_count": null,
      "outputs": [
        {
          "output_type": "stream",
          "text": [
            "[1.2899984949513486, 0.8282177358137486, 0.6265459103701183, 0.5111757857213574, 0.43417127071065337, 0.379501806491446, 0.3376696485450809, 0.30712377962537696, 0.27926398325482044, 0.25867311606424953, 0.2431625935140064, 0.22679589177161477, 0.2122483915253788, 0.20079301912304365, 0.19202099333914113, 0.18296763046157047, 0.17474934446500645, 0.16775278103315933, 0.16114863840620433, 0.155754904084706]\n"
          ],
          "name": "stdout"
        },
        {
          "output_type": "execute_result",
          "data": {
            "text/plain": [
              "<Figure size 432x288 with 0 Axes>"
            ]
          },
          "metadata": {
            "tags": []
          },
          "execution_count": 79
        },
        {
          "output_type": "display_data",
          "data": {
            "image/png": "[encoded data removed]",
            "text/plain": [
              "<Figure size 432x288 with 1 Axes>"
            ]
          },
          "metadata": {
            "tags": []
          }
        },
        {
          "output_type": "display_data",
          "data": {
            "text/plain": [
              "<Figure size 432x288 with 0 Axes>"
            ]
          },
          "metadata": {
            "tags": []
          }
        }
      ]
    },
    {
      "cell_type": "code",
      "metadata": {
        "id": "Tx7vbbyVhi6D",
        "outputId": "11f23144-b4e9-422b-d953-7fc0d829e0a3",
        "colab": {
          "base_uri": "https://localhost:8080/",
          "height": 164
        }
      },
      "source": [
        "def model_eval(model, data_loader, mode):\n",
        "  '''\n",
        "  A method for model evaluation.\n",
        "  '''\n",
        "  inp={}\n",
        "  \n",
        "  #Turning on the evaluation mode\n",
        "  model.eval()\n",
        "\n",
        "  losses = []\n",
        "  correct_predictions = 0    #Number of correct predcitions\n",
        "  total_predictions=0        #Total number of predictions\n",
        "  recall_scores=[]\n",
        "  for mini_batch in iter(data_loader):\n",
        "      x = mini_batch['input_encoding'].cuda()\n",
        "      intent_labels = mini_batch['targets'].cuda()\n",
        "    \n",
        "      #Forward Propagation\n",
        "      mlp_optimizer.zero_grad()\n",
        "      outputs  = mlp(x)\n",
        "      #print(outputs.logits.size())\n",
        "\n",
        "\n",
        "      #Predicting the class lables\n",
        "      preds = torch.argmax(outputs, dim=1)\n",
        "\n",
        "\n",
        "\n",
        "      loss = loss_mlp(outputs, intent_labels)\n",
        "      losses.append(loss.item())\n",
        "      if(mode == 'In-Scope'):\n",
        "        #Computing the loss function\n",
        "        # print('preds:', preds)\n",
        "        # print('intetns:', intent_labels)\n",
        "        #loss = loss_mlp(outputs, intent_labels)\n",
        "        correct_predictions += torch.sum(preds == intent_labels)\n",
        "        total_predictions +=  len(intent_labels)\n",
        "        #losses.append(loss.item())\n",
        "\n",
        "      elif(mode =='Out-Of-Scope'):\n",
        "        # print('preds:', preds)\n",
        "        # print('intetns:', intent_labels)\n",
        "        #preds[preds>0]=1\n",
        "\n",
        "        preds= preds.tolist()\n",
        "        intent_labels = intent_labels.tolist()\n",
        "        OOS_recall = np.sum(np.array(preds == np.array(intent_labels)))/len(preds)   #computing Precision\n",
        "        recall_scores.append(OOS_recall)\n",
        "\n",
        "\n",
        "  if(mode == 'In-Scope'):\n",
        "    print(\"\\n The loss value on evaluation In-scope:\", np.mean(losses))\n",
        "    print(\"correct predictions and total predictions on validation:\", correct_predictions, total_predictions )\n",
        "    print(\"Prediction accuracy on evaluation:\", correct_predictions.double() / total_predictions )\n",
        "    return np.mean(losses), correct_predictions.double() / total_predictions\n",
        "\n",
        "  elif(mode =='Out-Of-Scope'):\n",
        "    print(\"\\n The recall for Out-Of-Scope Intents:\", np.mean(recall_scores))\n",
        "    print(\"The loss value on evaluation Out-of_scope:\", np.mean(losses))\n",
        "    return np.mean(losses), np.mean(recall_scores)\n",
        "\n",
        "  \n",
        "\n",
        "\n",
        "#Loading the best model\n",
        "path = '/content/drive/My Drive/Deep Learing project/mlp(validation GAN).m'\n",
        "mlp.load_state_dict( torch.load(path))\n",
        "mlp_validation = mlp\n",
        "mlp_validation.eval()\n",
        "\n",
        "\n",
        "\n",
        "model_eval(mlp_validation, test_loader, 'In-Scope')\n",
        "model_eval(mlp_validation, oos_test_loader, 'Out-Of-Scope')"
      ],
      "execution_count": null,
      "outputs": [
        {
          "output_type": "stream",
          "text": [
            "\n",
            " The loss value on evaluation In-scope: 0.7778968645642835\n",
            "correct predictions and total predictions on validation: tensor(3531, device='cuda:0') 4500\n",
            "Prediction accuracy on evaluation: tensor(0.7847, device='cuda:0', dtype=torch.float64)\n",
            "\n",
            " The recall for Out-Of-Scope Intents: 0.49503968253968256\n",
            "The loss value on evaluation Out-of_scope: 1.871578025439429\n"
          ],
          "name": "stdout"
        },
        {
          "output_type": "execute_result",
          "data": {
            "text/plain": [
              "(1.871578025439429, 0.49503968253968256)"
            ]
          },
          "metadata": {
            "tags": []
          },
          "execution_count": 176
        }
      ]
    },
    {
      "cell_type": "code",
      "metadata": {
        "id": "uIlEtcIzBHgC",
        "outputId": "168ece07-06a0-40df-86be-42386c9eea69",
        "colab": {
          "base_uri": "https://localhost:8080/",
          "height": 35
        }
      },
      "source": [
        ""
      ],
      "execution_count": null,
      "outputs": [
        {
          "output_type": "execute_result",
          "data": {
            "text/plain": [
              "tensor([117], device='cuda:0')"
            ]
          },
          "metadata": {
            "tags": []
          },
          "execution_count": 81
        }
      ]
    }
  ]
}