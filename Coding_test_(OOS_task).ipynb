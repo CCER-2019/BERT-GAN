{
  "nbformat": 4,
  "nbformat_minor": 0,
  "metadata": {
    "colab": {
      "name": "Coding test Oracle (OOS task).ipynb",
      "provenance": [],
      "collapsed_sections": [],
      "authorship_tag": "ABX9TyNl6MJS6AJziBEBRwiHyLPI",
      "include_colab_link": true
    },
    "kernelspec": {
      "name": "python3",
      "display_name": "Python 3"
    },
    "accelerator": "GPU",
    "widgets": {
      "application/vnd.jupyter.widget-state+json": {
        "87edaf3e76fa44f6b0acb056f4df61d2": {
          "model_module": "@jupyter-widgets/controls",
          "model_name": "HBoxModel",
          "state": {
            "_view_name": "HBoxView",
            "_dom_classes": [],
            "_model_name": "HBoxModel",
            "_view_module": "@jupyter-widgets/controls",
            "_model_module_version": "1.5.0",
            "_view_count": null,
            "_view_module_version": "1.5.0",
            "box_style": "",
            "layout": "IPY_MODEL_c8e2314a2b5d494a96ff3a5699aa022a",
            "_model_module": "@jupyter-widgets/controls",
            "children": [
              "IPY_MODEL_b9a90b6feed34b78912643021c963000",
              "IPY_MODEL_1a5cf319a24044f399306dbc4cc21f9f"
            ]
          }
        },
        "c8e2314a2b5d494a96ff3a5699aa022a": {
          "model_module": "@jupyter-widgets/base",
          "model_name": "LayoutModel",
          "state": {
            "_view_name": "LayoutView",
            "grid_template_rows": null,
            "right": null,
            "justify_content": null,
            "_view_module": "@jupyter-widgets/base",
            "overflow": null,
            "_model_module_version": "1.2.0",
            "_view_count": null,
            "flex_flow": null,
            "width": null,
            "min_width": null,
            "border": null,
            "align_items": null,
            "bottom": null,
            "_model_module": "@jupyter-widgets/base",
            "top": null,
            "grid_column": null,
            "overflow_y": null,
            "overflow_x": null,
            "grid_auto_flow": null,
            "grid_area": null,
            "grid_template_columns": null,
            "flex": null,
            "_model_name": "LayoutModel",
            "justify_items": null,
            "grid_row": null,
            "max_height": null,
            "align_content": null,
            "visibility": null,
            "align_self": null,
            "height": null,
            "min_height": null,
            "padding": null,
            "grid_auto_rows": null,
            "grid_gap": null,
            "max_width": null,
            "order": null,
            "_view_module_version": "1.2.0",
            "grid_template_areas": null,
            "object_position": null,
            "object_fit": null,
            "grid_auto_columns": null,
            "margin": null,
            "display": null,
            "left": null
          }
        },
        "b9a90b6feed34b78912643021c963000": {
          "model_module": "@jupyter-widgets/controls",
          "model_name": "FloatProgressModel",
          "state": {
            "_view_name": "ProgressView",
            "style": "IPY_MODEL_5f7ac6bc0b684e0f9f034553969db6d9",
            "_dom_classes": [],
            "description": "Downloading: 100%",
            "_model_name": "FloatProgressModel",
            "bar_style": "success",
            "max": 231508,
            "_view_module": "@jupyter-widgets/controls",
            "_model_module_version": "1.5.0",
            "value": 231508,
            "_view_count": null,
            "_view_module_version": "1.5.0",
            "orientation": "horizontal",
            "min": 0,
            "description_tooltip": null,
            "_model_module": "@jupyter-widgets/controls",
            "layout": "IPY_MODEL_ac76bcbb37cf447cb3dbb81c6158b480"
          }
        },
        "1a5cf319a24044f399306dbc4cc21f9f": {
          "model_module": "@jupyter-widgets/controls",
          "model_name": "HTMLModel",
          "state": {
            "_view_name": "HTMLView",
            "style": "IPY_MODEL_7152fcdebbde46f996e2eb47b1efdc13",
            "_dom_classes": [],
            "description": "",
            "_model_name": "HTMLModel",
            "placeholder": "​",
            "_view_module": "@jupyter-widgets/controls",
            "_model_module_version": "1.5.0",
            "value": " 232k/232k [00:00&lt;00:00, 607kB/s]",
            "_view_count": null,
            "_view_module_version": "1.5.0",
            "description_tooltip": null,
            "_model_module": "@jupyter-widgets/controls",
            "layout": "IPY_MODEL_989becffbdaf478796738621d6fbaf07"
          }
        },
        "5f7ac6bc0b684e0f9f034553969db6d9": {
          "model_module": "@jupyter-widgets/controls",
          "model_name": "ProgressStyleModel",
          "state": {
            "_view_name": "StyleView",
            "_model_name": "ProgressStyleModel",
            "description_width": "initial",
            "_view_module": "@jupyter-widgets/base",
            "_model_module_version": "1.5.0",
            "_view_count": null,
            "_view_module_version": "1.2.0",
            "bar_color": null,
            "_model_module": "@jupyter-widgets/controls"
          }
        },
        "ac76bcbb37cf447cb3dbb81c6158b480": {
          "model_module": "@jupyter-widgets/base",
          "model_name": "LayoutModel",
          "state": {
            "_view_name": "LayoutView",
            "grid_template_rows": null,
            "right": null,
            "justify_content": null,
            "_view_module": "@jupyter-widgets/base",
            "overflow": null,
            "_model_module_version": "1.2.0",
            "_view_count": null,
            "flex_flow": null,
            "width": null,
            "min_width": null,
            "border": null,
            "align_items": null,
            "bottom": null,
            "_model_module": "@jupyter-widgets/base",
            "top": null,
            "grid_column": null,
            "overflow_y": null,
            "overflow_x": null,
            "grid_auto_flow": null,
            "grid_area": null,
            "grid_template_columns": null,
            "flex": null,
            "_model_name": "LayoutModel",
            "justify_items": null,
            "grid_row": null,
            "max_height": null,
            "align_content": null,
            "visibility": null,
            "align_self": null,
            "height": null,
            "min_height": null,
            "padding": null,
            "grid_auto_rows": null,
            "grid_gap": null,
            "max_width": null,
            "order": null,
            "_view_module_version": "1.2.0",
            "grid_template_areas": null,
            "object_position": null,
            "object_fit": null,
            "grid_auto_columns": null,
            "margin": null,
            "display": null,
            "left": null
          }
        },
        "7152fcdebbde46f996e2eb47b1efdc13": {
          "model_module": "@jupyter-widgets/controls",
          "model_name": "DescriptionStyleModel",
          "state": {
            "_view_name": "StyleView",
            "_model_name": "DescriptionStyleModel",
            "description_width": "",
            "_view_module": "@jupyter-widgets/base",
            "_model_module_version": "1.5.0",
            "_view_count": null,
            "_view_module_version": "1.2.0",
            "_model_module": "@jupyter-widgets/controls"
          }
        },
        "989becffbdaf478796738621d6fbaf07": {
          "model_module": "@jupyter-widgets/base",
          "model_name": "LayoutModel",
          "state": {
            "_view_name": "LayoutView",
            "grid_template_rows": null,
            "right": null,
            "justify_content": null,
            "_view_module": "@jupyter-widgets/base",
            "overflow": null,
            "_model_module_version": "1.2.0",
            "_view_count": null,
            "flex_flow": null,
            "width": null,
            "min_width": null,
            "border": null,
            "align_items": null,
            "bottom": null,
            "_model_module": "@jupyter-widgets/base",
            "top": null,
            "grid_column": null,
            "overflow_y": null,
            "overflow_x": null,
            "grid_auto_flow": null,
            "grid_area": null,
            "grid_template_columns": null,
            "flex": null,
            "_model_name": "LayoutModel",
            "justify_items": null,
            "grid_row": null,
            "max_height": null,
            "align_content": null,
            "visibility": null,
            "align_self": null,
            "height": null,
            "min_height": null,
            "padding": null,
            "grid_auto_rows": null,
            "grid_gap": null,
            "max_width": null,
            "order": null,
            "_view_module_version": "1.2.0",
            "grid_template_areas": null,
            "object_position": null,
            "object_fit": null,
            "grid_auto_columns": null,
            "margin": null,
            "display": null,
            "left": null
          }
        }
      }
    }
  },
  "cells": [
    {
      "cell_type": "markdown",
      "metadata": {
        "id": "view-in-github",
        "colab_type": "text"
      },
      "source": [
        "<a href=\"https://colab.research.google.com/github/farbodtaymouri/BERT-GAN/blob/main/Coding_test_Oracle_(OOS_task).ipynb\" target=\"_parent\"><img src=\"https://colab.research.google.com/assets/colab-badge.svg\" alt=\"Open In Colab\"/></a>"
      ]
    },
    {
      "cell_type": "code",
      "metadata": {
        "id": "q9AMdYtKAjHL"
      },
      "source": [
        "from __future__ import print_function, division\n",
        "import os\n",
        "import torch\n",
        "import pandas as pd\n",
        "from skimage import io, transform\n",
        "import numpy as np\n",
        "import matplotlib.pyplot as plt\n",
        "from torch.utils.data import Dataset, DataLoader, TensorDataset\n",
        "from torch.utils.data import DataLoader, RandomSampler, SequentialSampler\n",
        "from torchvision import transforms, utils\n",
        "import torch.nn as nn\n",
        "from scipy.special import softmax\n",
        "import torchvision\n",
        "from torch.autograd import Variable\n",
        "from sklearn.decomposition import PCA\n",
        "import seaborn as sns\n",
        "from tqdm import tqdm\n",
        "from sklearn.metrics import accuracy_score\n",
        "from sklearn.manifold import TSNE\n",
        "import torchvision\n",
        "import torchvision.transforms as transforms\n",
        "import matplotlib.pyplot as plt\n",
        "import numpy as np\n",
        "np.set_printoptions(linewidth=1000)\n",
        "import torch.nn as nn\n",
        "import torch.nn.functional as F\n",
        "import torch.optim as optim\n",
        "import torch.nn.init  as init\n",
        "import pandas as pd\n",
        "import random\n",
        "import pprint\n",
        "from torch.nn.utils.rnn import pad_sequence\n",
        "from sklearn.metrics import precision_recall_fscore_support\n",
        "from sklearn.metrics import recall_score\n",
        "import urllib.request, json \n",
        "import urllib, json\n",
        "device=torch.device('cuda:0')\n",
        "plt.style.use('ggplot')"
      ],
      "execution_count": 1,
      "outputs": []
    },
    {
      "cell_type": "markdown",
      "metadata": {
        "id": "m4lI1g4KceqH"
      },
      "source": [
        "* Installing the required libraries "
      ]
    },
    {
      "cell_type": "code",
      "metadata": {
        "id": "Htpr_hsbCw4m",
        "outputId": "18151945-d9dd-4c5a-eb70-9c2c2738f874",
        "colab": {
          "base_uri": "https://localhost:8080/",
          "height": 701,
          "referenced_widgets": [
            "87edaf3e76fa44f6b0acb056f4df61d2",
            "c8e2314a2b5d494a96ff3a5699aa022a",
            "b9a90b6feed34b78912643021c963000",
            "1a5cf319a24044f399306dbc4cc21f9f",
            "5f7ac6bc0b684e0f9f034553969db6d9",
            "ac76bcbb37cf447cb3dbb81c6158b480",
            "7152fcdebbde46f996e2eb47b1efdc13",
            "989becffbdaf478796738621d6fbaf07"
          ]
        }
      },
      "source": [
        "!pip install transformers\n",
        "from torchtext.data import Field, TabularDataset, BucketIterator, Iterator\n",
        "from transformers import  AdamW, get_linear_schedule_with_warmup\n",
        "from transformers import BertTokenizer, BertForSequenceClassification\n",
        "tokenizer = BertTokenizer.from_pretrained('bert-base-uncased')"
      ],
      "execution_count": 2,
      "outputs": [
        {
          "output_type": "stream",
          "text": [
            "Collecting transformers\n",
            "\u001b[?25l  Downloading https://files.pythonhosted.org/packages/19/22/aff234f4a841f8999e68a7a94bdd4b60b4cebcfeca5d67d61cd08c9179de/transformers-3.3.1-py3-none-any.whl (1.1MB)\n",
            "\r\u001b[K     |▎                               | 10kB 17.8MB/s eta 0:00:01\r\u001b[K     |▋                               | 20kB 7.3MB/s eta 0:00:01\r\u001b[K     |█                               | 30kB 8.2MB/s eta 0:00:01\r\u001b[K     |█▎                              | 40kB 6.5MB/s eta 0:00:01\r\u001b[K     |█▌                              | 51kB 6.0MB/s eta 0:00:01\r\u001b[K     |█▉                              | 61kB 6.0MB/s eta 0:00:01\r\u001b[K     |██▏                             | 71kB 6.0MB/s eta 0:00:01\r\u001b[K     |██▌                             | 81kB 5.8MB/s eta 0:00:01\r\u001b[K     |██▉                             | 92kB 5.9MB/s eta 0:00:01\r\u001b[K     |███                             | 102kB 5.8MB/s eta 0:00:01\r\u001b[K     |███▍                            | 112kB 5.8MB/s eta 0:00:01\r\u001b[K     |███▊                            | 122kB 5.8MB/s eta 0:00:01\r\u001b[K     |████                            | 133kB 5.8MB/s eta 0:00:01\r\u001b[K     |████▎                           | 143kB 5.8MB/s eta 0:00:01\r\u001b[K     |████▋                           | 153kB 5.8MB/s eta 0:00:01\r\u001b[K     |█████                           | 163kB 5.8MB/s eta 0:00:01\r\u001b[K     |█████▎                          | 174kB 5.8MB/s eta 0:00:01\r\u001b[K     |█████▋                          | 184kB 5.8MB/s eta 0:00:01\r\u001b[K     |█████▉                          | 194kB 5.8MB/s eta 0:00:01\r\u001b[K     |██████▏                         | 204kB 5.8MB/s eta 0:00:01\r\u001b[K     |██████▌                         | 215kB 5.8MB/s eta 0:00:01\r\u001b[K     |██████▉                         | 225kB 5.8MB/s eta 0:00:01\r\u001b[K     |███████                         | 235kB 5.8MB/s eta 0:00:01\r\u001b[K     |███████▍                        | 245kB 5.8MB/s eta 0:00:01\r\u001b[K     |███████▊                        | 256kB 5.8MB/s eta 0:00:01\r\u001b[K     |████████                        | 266kB 5.8MB/s eta 0:00:01\r\u001b[K     |████████▍                       | 276kB 5.8MB/s eta 0:00:01\r\u001b[K     |████████▋                       | 286kB 5.8MB/s eta 0:00:01\r\u001b[K     |█████████                       | 296kB 5.8MB/s eta 0:00:01\r\u001b[K     |█████████▎                      | 307kB 5.8MB/s eta 0:00:01\r\u001b[K     |█████████▋                      | 317kB 5.8MB/s eta 0:00:01\r\u001b[K     |█████████▉                      | 327kB 5.8MB/s eta 0:00:01\r\u001b[K     |██████████▏                     | 337kB 5.8MB/s eta 0:00:01\r\u001b[K     |██████████▌                     | 348kB 5.8MB/s eta 0:00:01\r\u001b[K     |██████████▉                     | 358kB 5.8MB/s eta 0:00:01\r\u001b[K     |███████████▏                    | 368kB 5.8MB/s eta 0:00:01\r\u001b[K     |███████████▍                    | 378kB 5.8MB/s eta 0:00:01\r\u001b[K     |███████████▊                    | 389kB 5.8MB/s eta 0:00:01\r\u001b[K     |████████████                    | 399kB 5.8MB/s eta 0:00:01\r\u001b[K     |████████████▍                   | 409kB 5.8MB/s eta 0:00:01\r\u001b[K     |████████████▋                   | 419kB 5.8MB/s eta 0:00:01\r\u001b[K     |█████████████                   | 430kB 5.8MB/s eta 0:00:01\r\u001b[K     |█████████████▎                  | 440kB 5.8MB/s eta 0:00:01\r\u001b[K     |█████████████▋                  | 450kB 5.8MB/s eta 0:00:01\r\u001b[K     |██████████████                  | 460kB 5.8MB/s eta 0:00:01\r\u001b[K     |██████████████▏                 | 471kB 5.8MB/s eta 0:00:01\r\u001b[K     |██████████████▌                 | 481kB 5.8MB/s eta 0:00:01\r\u001b[K     |██████████████▉                 | 491kB 5.8MB/s eta 0:00:01\r\u001b[K     |███████████████▏                | 501kB 5.8MB/s eta 0:00:01\r\u001b[K     |███████████████▍                | 512kB 5.8MB/s eta 0:00:01\r\u001b[K     |███████████████▊                | 522kB 5.8MB/s eta 0:00:01\r\u001b[K     |████████████████                | 532kB 5.8MB/s eta 0:00:01\r\u001b[K     |████████████████▍               | 542kB 5.8MB/s eta 0:00:01\r\u001b[K     |████████████████▊               | 552kB 5.8MB/s eta 0:00:01\r\u001b[K     |█████████████████               | 563kB 5.8MB/s eta 0:00:01\r\u001b[K     |█████████████████▎              | 573kB 5.8MB/s eta 0:00:01\r\u001b[K     |█████████████████▋              | 583kB 5.8MB/s eta 0:00:01\r\u001b[K     |██████████████████              | 593kB 5.8MB/s eta 0:00:01\r\u001b[K     |██████████████████▏             | 604kB 5.8MB/s eta 0:00:01\r\u001b[K     |██████████████████▌             | 614kB 5.8MB/s eta 0:00:01\r\u001b[K     |██████████████████▉             | 624kB 5.8MB/s eta 0:00:01\r\u001b[K     |███████████████████▏            | 634kB 5.8MB/s eta 0:00:01\r\u001b[K     |███████████████████▌            | 645kB 5.8MB/s eta 0:00:01\r\u001b[K     |███████████████████▊            | 655kB 5.8MB/s eta 0:00:01\r\u001b[K     |████████████████████            | 665kB 5.8MB/s eta 0:00:01\r\u001b[K     |████████████████████▍           | 675kB 5.8MB/s eta 0:00:01\r\u001b[K     |████████████████████▊           | 686kB 5.8MB/s eta 0:00:01\r\u001b[K     |█████████████████████           | 696kB 5.8MB/s eta 0:00:01\r\u001b[K     |█████████████████████▎          | 706kB 5.8MB/s eta 0:00:01\r\u001b[K     |█████████████████████▋          | 716kB 5.8MB/s eta 0:00:01\r\u001b[K     |██████████████████████          | 727kB 5.8MB/s eta 0:00:01\r\u001b[K     |██████████████████████▎         | 737kB 5.8MB/s eta 0:00:01\r\u001b[K     |██████████████████████▌         | 747kB 5.8MB/s eta 0:00:01\r\u001b[K     |██████████████████████▉         | 757kB 5.8MB/s eta 0:00:01\r\u001b[K     |███████████████████████▏        | 768kB 5.8MB/s eta 0:00:01\r\u001b[K     |███████████████████████▌        | 778kB 5.8MB/s eta 0:00:01\r\u001b[K     |███████████████████████▊        | 788kB 5.8MB/s eta 0:00:01\r\u001b[K     |████████████████████████        | 798kB 5.8MB/s eta 0:00:01\r\u001b[K     |████████████████████████▍       | 808kB 5.8MB/s eta 0:00:01\r\u001b[K     |████████████████████████▊       | 819kB 5.8MB/s eta 0:00:01\r\u001b[K     |█████████████████████████       | 829kB 5.8MB/s eta 0:00:01\r\u001b[K     |█████████████████████████▎      | 839kB 5.8MB/s eta 0:00:01\r\u001b[K     |█████████████████████████▋      | 849kB 5.8MB/s eta 0:00:01\r\u001b[K     |██████████████████████████      | 860kB 5.8MB/s eta 0:00:01\r\u001b[K     |██████████████████████████▎     | 870kB 5.8MB/s eta 0:00:01\r\u001b[K     |██████████████████████████▌     | 880kB 5.8MB/s eta 0:00:01\r\u001b[K     |██████████████████████████▉     | 890kB 5.8MB/s eta 0:00:01\r\u001b[K     |███████████████████████████▏    | 901kB 5.8MB/s eta 0:00:01\r\u001b[K     |███████████████████████████▌    | 911kB 5.8MB/s eta 0:00:01\r\u001b[K     |███████████████████████████▉    | 921kB 5.8MB/s eta 0:00:01\r\u001b[K     |████████████████████████████    | 931kB 5.8MB/s eta 0:00:01\r\u001b[K     |████████████████████████████▍   | 942kB 5.8MB/s eta 0:00:01\r\u001b[K     |████████████████████████████▊   | 952kB 5.8MB/s eta 0:00:01\r\u001b[K     |█████████████████████████████   | 962kB 5.8MB/s eta 0:00:01\r\u001b[K     |█████████████████████████████▎  | 972kB 5.8MB/s eta 0:00:01\r\u001b[K     |█████████████████████████████▋  | 983kB 5.8MB/s eta 0:00:01\r\u001b[K     |██████████████████████████████  | 993kB 5.8MB/s eta 0:00:01\r\u001b[K     |██████████████████████████████▎ | 1.0MB 5.8MB/s eta 0:00:01\r\u001b[K     |██████████████████████████████▋ | 1.0MB 5.8MB/s eta 0:00:01\r\u001b[K     |██████████████████████████████▉ | 1.0MB 5.8MB/s eta 0:00:01\r\u001b[K     |███████████████████████████████▏| 1.0MB 5.8MB/s eta 0:00:01\r\u001b[K     |███████████████████████████████▌| 1.0MB 5.8MB/s eta 0:00:01\r\u001b[K     |███████████████████████████████▉| 1.1MB 5.8MB/s eta 0:00:01\r\u001b[K     |████████████████████████████████| 1.1MB 5.8MB/s \n",
            "\u001b[?25hRequirement already satisfied: regex!=2019.12.17 in /usr/local/lib/python3.6/dist-packages (from transformers) (2019.12.20)\n",
            "Requirement already satisfied: packaging in /usr/local/lib/python3.6/dist-packages (from transformers) (20.4)\n",
            "Requirement already satisfied: tqdm>=4.27 in /usr/local/lib/python3.6/dist-packages (from transformers) (4.41.1)\n",
            "Requirement already satisfied: numpy in /usr/local/lib/python3.6/dist-packages (from transformers) (1.18.5)\n",
            "Collecting sentencepiece!=0.1.92\n",
            "\u001b[?25l  Downloading https://files.pythonhosted.org/packages/d4/a4/d0a884c4300004a78cca907a6ff9a5e9fe4f090f5d95ab341c53d28cbc58/sentencepiece-0.1.91-cp36-cp36m-manylinux1_x86_64.whl (1.1MB)\n",
            "\u001b[K     |████████████████████████████████| 1.1MB 24.2MB/s \n",
            "\u001b[?25hRequirement already satisfied: requests in /usr/local/lib/python3.6/dist-packages (from transformers) (2.23.0)\n",
            "Collecting tokenizers==0.8.1.rc2\n",
            "\u001b[?25l  Downloading https://files.pythonhosted.org/packages/80/83/8b9fccb9e48eeb575ee19179e2bdde0ee9a1904f97de5f02d19016b8804f/tokenizers-0.8.1rc2-cp36-cp36m-manylinux1_x86_64.whl (3.0MB)\n",
            "\u001b[K     |████████████████████████████████| 3.0MB 50.3MB/s \n",
            "\u001b[?25hRequirement already satisfied: dataclasses; python_version < \"3.7\" in /usr/local/lib/python3.6/dist-packages (from transformers) (0.7)\n",
            "Requirement already satisfied: filelock in /usr/local/lib/python3.6/dist-packages (from transformers) (3.0.12)\n",
            "Collecting sacremoses\n",
            "\u001b[?25l  Downloading https://files.pythonhosted.org/packages/7d/34/09d19aff26edcc8eb2a01bed8e98f13a1537005d31e95233fd48216eed10/sacremoses-0.0.43.tar.gz (883kB)\n",
            "\u001b[K     |████████████████████████████████| 890kB 50.8MB/s \n",
            "\u001b[?25hRequirement already satisfied: pyparsing>=2.0.2 in /usr/local/lib/python3.6/dist-packages (from packaging->transformers) (2.4.7)\n",
            "Requirement already satisfied: six in /usr/local/lib/python3.6/dist-packages (from packaging->transformers) (1.15.0)\n",
            "Requirement already satisfied: certifi>=2017.4.17 in /usr/local/lib/python3.6/dist-packages (from requests->transformers) (2020.6.20)\n",
            "Requirement already satisfied: urllib3!=1.25.0,!=1.25.1,<1.26,>=1.21.1 in /usr/local/lib/python3.6/dist-packages (from requests->transformers) (1.24.3)\n",
            "Requirement already satisfied: idna<3,>=2.5 in /usr/local/lib/python3.6/dist-packages (from requests->transformers) (2.10)\n",
            "Requirement already satisfied: chardet<4,>=3.0.2 in /usr/local/lib/python3.6/dist-packages (from requests->transformers) (3.0.4)\n",
            "Requirement already satisfied: click in /usr/local/lib/python3.6/dist-packages (from sacremoses->transformers) (7.1.2)\n",
            "Requirement already satisfied: joblib in /usr/local/lib/python3.6/dist-packages (from sacremoses->transformers) (0.16.0)\n",
            "Building wheels for collected packages: sacremoses\n",
            "  Building wheel for sacremoses (setup.py) ... \u001b[?25l\u001b[?25hdone\n",
            "  Created wheel for sacremoses: filename=sacremoses-0.0.43-cp36-none-any.whl size=893257 sha256=d0926405ff6035357aa0486f62166e752804557e856e603bcda02acf503caeff\n",
            "  Stored in directory: /root/.cache/pip/wheels/29/3c/fd/7ce5c3f0666dab31a50123635e6fb5e19ceb42ce38d4e58f45\n",
            "Successfully built sacremoses\n",
            "Installing collected packages: sentencepiece, tokenizers, sacremoses, transformers\n",
            "Successfully installed sacremoses-0.0.43 sentencepiece-0.1.91 tokenizers-0.8.1rc2 transformers-3.3.1\n"
          ],
          "name": "stdout"
        },
        {
          "output_type": "display_data",
          "data": {
            "application/vnd.jupyter.widget-view+json": {
              "model_id": "87edaf3e76fa44f6b0acb056f4df61d2",
              "version_minor": 0,
              "version_major": 2
            },
            "text/plain": [
              "HBox(children=(FloatProgress(value=0.0, description='Downloading', max=231508.0, style=ProgressStyle(descripti…"
            ]
          },
          "metadata": {
            "tags": []
          }
        },
        {
          "output_type": "stream",
          "text": [
            "\n"
          ],
          "name": "stdout"
        }
      ]
    },
    {
      "cell_type": "code",
      "metadata": {
        "id": "4EqPel1DtgJ8"
      },
      "source": [
        "# Set the seed value all over the place to make this reproducible.\n",
        "seed_val = 100\n",
        "random.seed(seed_val)\n",
        "np.random.seed(seed_val)\n",
        "torch.manual_seed(seed_val)\n",
        "torch.cuda.manual_seed_all(seed_val)"
      ],
      "execution_count": 3,
      "outputs": []
    },
    {
      "cell_type": "code",
      "metadata": {
        "id": "SVx2U6jJVbQq",
        "outputId": "18a080fc-05cf-4bbc-f7e4-e54062af27d0",
        "colab": {
          "base_uri": "https://localhost:8080/",
          "height": 389
        }
      },
      "source": [
        "gpu_info = !nvidia-smi\n",
        "gpu_info = '\\n'.join(gpu_info)\n",
        "if gpu_info.find('failed') >= 0:\n",
        "  print('Select the Runtime > \"Change runtime type\" menu to enable a GPU accelerator, ')\n",
        "  print('and then re-execute this cell.')\n",
        "else:\n",
        "  print(gpu_info)\n",
        "\n",
        "import warnings\n",
        "warnings.filterwarnings('ignore')"
      ],
      "execution_count": null,
      "outputs": [
        {
          "output_type": "stream",
          "text": [
            "Fri Oct 16 10:28:58 2020       \n",
            "+-----------------------------------------------------------------------------+\n",
            "| NVIDIA-SMI 455.23.05    Driver Version: 418.67       CUDA Version: 10.1     |\n",
            "|-------------------------------+----------------------+----------------------+\n",
            "| GPU  Name        Persistence-M| Bus-Id        Disp.A | Volatile Uncorr. ECC |\n",
            "| Fan  Temp  Perf  Pwr:Usage/Cap|         Memory-Usage | GPU-Util  Compute M. |\n",
            "|                               |                      |               MIG M. |\n",
            "|===============================+======================+======================|\n",
            "|   0  Tesla V100-SXM2...  Off  | 00000000:00:04.0 Off |                    0 |\n",
            "| N/A   35C    P0    38W / 300W |   2045MiB / 16130MiB |      0%      Default |\n",
            "|                               |                      |                 ERR! |\n",
            "+-------------------------------+----------------------+----------------------+\n",
            "                                                                               \n",
            "+-----------------------------------------------------------------------------+\n",
            "| Processes:                                                                  |\n",
            "|  GPU   GI   CI        PID   Type   Process name                  GPU Memory |\n",
            "|        ID   ID                                                   Usage      |\n",
            "|=============================================================================|\n",
            "|  No running processes found                                                 |\n",
            "+-----------------------------------------------------------------------------+\n"
          ],
          "name": "stdout"
        }
      ]
    },
    {
      "cell_type": "code",
      "metadata": {
        "id": "FOhz9qwrWw9x",
        "outputId": "50cbbc12-9ff3-4dd6-e80b-0ac3f94094dd",
        "colab": {
          "base_uri": "https://localhost:8080/",
          "height": 36
        }
      },
      "source": [
        "#Loading custom libraries\n",
        "import sys\n",
        "sys.path.append('/content/drive/My Drive/Deep Learing project')\n",
        "from google.colab import drive\n",
        "drive.mount('/content/drive')"
      ],
      "execution_count": null,
      "outputs": [
        {
          "output_type": "stream",
          "text": [
            "Mounted at /content/drive\n"
          ],
          "name": "stdout"
        }
      ]
    },
    {
      "cell_type": "code",
      "metadata": {
        "id": "GNOuSnFRA-mZ"
      },
      "source": [
        "#Reading Json file\n",
        "with urllib.request.urlopen('https://raw.githubusercontent.com/clinc/oos-eval/master/data/data_imbalanced.json') as url:\n",
        "    data = json.loads(url.read().decode())\n",
        "    print(data)\n",
        "\n"
      ],
      "execution_count": null,
      "outputs": []
    },
    {
      "cell_type": "code",
      "metadata": {
        "id": "p_AaZ__SKZFl",
        "outputId": "513e915f-4fde-474b-bc58-5174b6a2800d",
        "colab": {
          "base_uri": "https://localhost:8080/",
          "height": 498
        }
      },
      "source": [
        "#Converting lists to pandas dataframe (creating unique category to numeric class labels)\n",
        "def list_to_df(train,test,valid):\n",
        "  tot_list = train+test+valid\n",
        "  df = pd.DataFrame (tot_list,columns=['content', 'label'])\n",
        "  num_labels = len(df['label'].unique())\n",
        "  #Creating numerical class value\n",
        "  df['label_num'] = pd.factorize(df.label)[0]\n",
        "\n",
        "  train_df = df[0:len(train)]\n",
        "  test_df = df[len(train): len(train)+len(test)]\n",
        "  val_df = df[len(train)+len(test): len(train)+len(test)+len(valid)]\n",
        "\n",
        "  return train_df, test_df, val_df, num_labels \n",
        "\n",
        "train_df, test_df, val_df, num_labels = list_to_df(data['oos_train']+data['train'], data['oos_test']+data['test'], data['oos_val']+data['val'])\n",
        "\n",
        "\n",
        "oos_train_df = train_df[0:len(data['oos_train'])]\n",
        "oos_test_df = test_df[0:len(data['oos_test'])]\n",
        "oos_val_df = val_df[0:len(data['oos_val'])]\n",
        "test_df = test_df[len(data['oos_test']):]\n",
        "val_df = val_df[len(data['oos_val']):]\n",
        "\n",
        "\n",
        "print(\"The number of classes:\", num_labels)\n",
        "print(\"Dim of train:\", train_df.shape)\n",
        "print(\"Dim of valid:\", val_df.shape)\n",
        "print(\"Dim of test\", test_df.shape)\n",
        "train_df.head(100)\n"
      ],
      "execution_count": 5,
      "outputs": [
        {
          "output_type": "stream",
          "text": [
            "The number of classes: 151\n",
            "Dim of train: (10625, 3)\n",
            "Dim of valid: (3000, 3)\n",
            "Dim of test (4500, 3)\n"
          ],
          "name": "stdout"
        },
        {
          "output_type": "execute_result",
          "data": {
            "text/html": [
              "<div>\n",
              "<style scoped>\n",
              "    .dataframe tbody tr th:only-of-type {\n",
              "        vertical-align: middle;\n",
              "    }\n",
              "\n",
              "    .dataframe tbody tr th {\n",
              "        vertical-align: top;\n",
              "    }\n",
              "\n",
              "    .dataframe thead th {\n",
              "        text-align: right;\n",
              "    }\n",
              "</style>\n",
              "<table border=\"1\" class=\"dataframe\">\n",
              "  <thead>\n",
              "    <tr style=\"text-align: right;\">\n",
              "      <th></th>\n",
              "      <th>content</th>\n",
              "      <th>label</th>\n",
              "      <th>label_num</th>\n",
              "    </tr>\n",
              "  </thead>\n",
              "  <tbody>\n",
              "    <tr>\n",
              "      <th>0</th>\n",
              "      <td>how much is an overdraft fee for bank</td>\n",
              "      <td>oos</td>\n",
              "      <td>0</td>\n",
              "    </tr>\n",
              "    <tr>\n",
              "      <th>1</th>\n",
              "      <td>why are exponents preformed before multiplicat...</td>\n",
              "      <td>oos</td>\n",
              "      <td>0</td>\n",
              "    </tr>\n",
              "    <tr>\n",
              "      <th>2</th>\n",
              "      <td>what size wipers does this car take</td>\n",
              "      <td>oos</td>\n",
              "      <td>0</td>\n",
              "    </tr>\n",
              "    <tr>\n",
              "      <th>3</th>\n",
              "      <td>where is the dipstick</td>\n",
              "      <td>oos</td>\n",
              "      <td>0</td>\n",
              "    </tr>\n",
              "    <tr>\n",
              "      <th>4</th>\n",
              "      <td>how much is 1 share of aapl</td>\n",
              "      <td>oos</td>\n",
              "      <td>0</td>\n",
              "    </tr>\n",
              "    <tr>\n",
              "      <th>...</th>\n",
              "      <td>...</td>\n",
              "      <td>...</td>\n",
              "      <td>...</td>\n",
              "    </tr>\n",
              "    <tr>\n",
              "      <th>95</th>\n",
              "      <td>what percentage of species display cold bloode...</td>\n",
              "      <td>oos</td>\n",
              "      <td>0</td>\n",
              "    </tr>\n",
              "    <tr>\n",
              "      <th>96</th>\n",
              "      <td>what does it mean to be an alpha male</td>\n",
              "      <td>oos</td>\n",
              "      <td>0</td>\n",
              "    </tr>\n",
              "    <tr>\n",
              "      <th>97</th>\n",
              "      <td>what animals have alpha males</td>\n",
              "      <td>oos</td>\n",
              "      <td>0</td>\n",
              "    </tr>\n",
              "    <tr>\n",
              "      <th>98</th>\n",
              "      <td>why do males want to be alpha</td>\n",
              "      <td>oos</td>\n",
              "      <td>0</td>\n",
              "    </tr>\n",
              "    <tr>\n",
              "      <th>99</th>\n",
              "      <td>what's the average battery life of an android ...</td>\n",
              "      <td>oos</td>\n",
              "      <td>0</td>\n",
              "    </tr>\n",
              "  </tbody>\n",
              "</table>\n",
              "<p>100 rows × 3 columns</p>\n",
              "</div>"
            ],
            "text/plain": [
              "                                              content label  label_num\n",
              "0               how much is an overdraft fee for bank   oos          0\n",
              "1   why are exponents preformed before multiplicat...   oos          0\n",
              "2                 what size wipers does this car take   oos          0\n",
              "3                               where is the dipstick   oos          0\n",
              "4                         how much is 1 share of aapl   oos          0\n",
              "..                                                ...   ...        ...\n",
              "95  what percentage of species display cold bloode...   oos          0\n",
              "96              what does it mean to be an alpha male   oos          0\n",
              "97                      what animals have alpha males   oos          0\n",
              "98                      why do males want to be alpha   oos          0\n",
              "99  what's the average battery life of an android ...   oos          0\n",
              "\n",
              "[100 rows x 3 columns]"
            ]
          },
          "metadata": {
            "tags": []
          },
          "execution_count": 5
        }
      ]
    },
    {
      "cell_type": "code",
      "metadata": {
        "id": "PYyQ8Pe7rDmB",
        "outputId": "13e207fa-1dd5-4596-8502-d808e4071db5",
        "colab": {
          "base_uri": "https://localhost:8080/",
          "height": 283
        }
      },
      "source": [
        "#Class distributions across train.test, and validation sets\n",
        "train_df['label_num'].hist()\n",
        "test_df['label_num'].hist()\n",
        "val_df['label_num'].hist()"
      ],
      "execution_count": null,
      "outputs": [
        {
          "output_type": "execute_result",
          "data": {
            "text/plain": [
              "<matplotlib.axes._subplots.AxesSubplot at 0x7f2159d1afd0>"
            ]
          },
          "metadata": {
            "tags": []
          },
          "execution_count": 5
        },
        {
          "output_type": "display_data",
          "data": {
            "image/png": "[encoded data removed]",
            "text/plain": [
              "<Figure size 432x288 with 1 Axes>"
            ]
          },
          "metadata": {
            "tags": [],
            "needs_background": "light"
          }
        }
      ]
    },
    {
      "cell_type": "code",
      "metadata": {
        "id": "nBJIh15iujZl"
      },
      "source": [
        "#Getting some insights about the sequence lengths\n",
        "token_lens = []\n",
        "tokens_list =[]\n",
        "\n",
        "for txt in data['train']:\n",
        "  tokens = tokenizer.encode(txt[0], truncation='only_first', max_length=50)\n",
        "  token_lens.append(len(tokens))\n",
        "  tokens_list.append(tokens)"
      ],
      "execution_count": null,
      "outputs": []
    },
    {
      "cell_type": "code",
      "metadata": {
        "id": "0C66yHjGN5Ju",
        "outputId": "9236e3bb-bed8-4f48-fab1-e0b0ea5623b0",
        "colab": {
          "base_uri": "https://localhost:8080/",
          "height": 357
        }
      },
      "source": [
        "data['train']\n",
        "sns.distplot(token_lens)\n",
        "plt.xlim([0, 256]);\n",
        "plt.xlabel('Token count');"
      ],
      "execution_count": null,
      "outputs": [
        {
          "output_type": "stream",
          "text": [
            "/usr/local/lib/python3.6/dist-packages/seaborn/distributions.py:2551: FutureWarning: `distplot` is a deprecated function and will be removed in a future version. Please adapt your code to use either `displot` (a figure-level function with similar flexibility) or `histplot` (an axes-level function for histograms).\n",
            "  warnings.warn(msg, FutureWarning)\n"
          ],
          "name": "stderr"
        },
        {
          "output_type": "execute_result",
          "data": {
            "text/plain": [
              "33"
            ]
          },
          "metadata": {
            "tags": []
          },
          "execution_count": 70
        },
        {
          "output_type": "display_data",
          "data": {
            "image/png": "[encoded data removed]",
            "text/plain": [
              "<Figure size 432x288 with 1 Axes>"
            ]
          },
          "metadata": {
            "tags": [],
            "needs_background": "light"
          }
        }
      ]
    },
    {
      "cell_type": "code",
      "metadata": {
        "id": "BHWWyErcHBhC"
      },
      "source": [
        "#Data model class class\n",
        "class IntentDataset(Dataset):\n",
        "\n",
        "  def __init__(self, reviews, targets, tokenizer, max_len):\n",
        "    self.reviews = reviews  #A request\n",
        "    self.targets = targets  # An Intent\n",
        "    self.tokenizer = tokenizer\n",
        "    self.max_len = max_len\n",
        "    self.encoding =''\n",
        "\n",
        "  def __len__(self):\n",
        "    return len(self.reviews)\n",
        "\n",
        "  def __getitem__(self, item):\n",
        "    review = str(self.reviews[item])\n",
        "    target = self.targets[item]\n",
        "    encoding = self.tokenizer.encode_plus(\n",
        "      review,\n",
        "      add_special_tokens=True,\n",
        "      max_length=self.max_len,\n",
        "      return_token_type_ids=True,\n",
        "      pad_to_max_length=True,\n",
        "      return_attention_mask=True,\n",
        "      truncation='only_first',\n",
        "      return_tensors='pt',\n",
        "    )\n",
        "    return {\n",
        "      #'review_text': review,\n",
        "      'input_ids': encoding['input_ids'].flatten(),\n",
        "      'attention_mask': encoding['attention_mask'].flatten(),\n",
        "      'token_type_ids' : encoding['token_type_ids'].flatten(),\n",
        "      'targets': torch.tensor(target, dtype=torch.long)\n",
        "\n",
        "    }\n",
        "#-----------------------------------------------\n",
        "def create_data_loader(df, tokenizer, max_len, batch_size):\n",
        "  ds = IntentDataset(\n",
        "    reviews=df.content.to_numpy(),\n",
        "    targets=df.label_num.to_numpy(),\n",
        "    tokenizer=tokenizer,\n",
        "    max_len=max_len\n",
        "  )\n",
        "\n",
        "  #Returning a Pytorch tensor\n",
        "  return DataLoader(\n",
        "    ds,\n",
        "    batch_size=batch_size,\n",
        "    sampler = RandomSampler(ds), # Select batches randomly\n",
        "    num_workers=1\n",
        "  )"
      ],
      "execution_count": 6,
      "outputs": []
    },
    {
      "cell_type": "code",
      "metadata": {
        "id": "7QijNYu_tEME",
        "outputId": "7cc435fc-fab1-4aac-cf7c-7522ed7aa6d2",
        "colab": {
          "base_uri": "https://localhost:8080/",
          "height": 447
        }
      },
      "source": [
        "BATCH_SIZE = 16\n",
        "MAX_LEN = 150\n",
        "train_loader = create_data_loader(train_df, tokenizer, MAX_LEN, BATCH_SIZE)\n",
        "test_loader = create_data_loader(test_df, tokenizer, MAX_LEN, BATCH_SIZE)\n",
        "val_loader = create_data_loader(val_df, tokenizer, MAX_LEN, BATCH_SIZE)\n",
        "\n",
        "oos_test_loader = create_data_loader(oos_test_df, tokenizer, MAX_LEN, BATCH_SIZE)\n",
        "oos_val_loader = create_data_loader(oos_val_df, tokenizer, MAX_LEN, BATCH_SIZE)\n",
        "\n",
        "for uu in iter(train_loader):\n",
        "  print(uu)\n",
        "  break"
      ],
      "execution_count": 8,
      "outputs": [
        {
          "output_type": "stream",
          "text": [
            "/usr/local/lib/python3.6/dist-packages/transformers/tokenization_utils_base.py:1773: FutureWarning: The `pad_to_max_length` argument is deprecated and will be removed in a future version, use `padding=True` or `padding='longest'` to pad to the longest sequence in the batch, or use `padding='max_length'` to pad to a max length. In this case, you can give a specific length with `max_length` (e.g. `max_length=45`) or leave max_length to None to pad to the maximal input size of the model (e.g. 512 for Bert).\n",
            "  FutureWarning,\n"
          ],
          "name": "stderr"
        },
        {
          "output_type": "stream",
          "text": [
            "{'input_ids': tensor([[  101,  2054,  2015,  ...,     0,     0,     0],\n",
            "        [  101,  2054,  2003,  ...,     0,     0,     0],\n",
            "        [  101,  1045,  1005,  ...,     0,     0,     0],\n",
            "        ...,\n",
            "        [  101,  3531, 17542,  ...,     0,     0,     0],\n",
            "        [  101,  2061,  2054,  ...,     0,     0,     0],\n",
            "        [  101,  1045,  2079,  ...,     0,     0,     0]]), 'attention_mask': tensor([[1, 1, 1,  ..., 0, 0, 0],\n",
            "        [1, 1, 1,  ..., 0, 0, 0],\n",
            "        [1, 1, 1,  ..., 0, 0, 0],\n",
            "        ...,\n",
            "        [1, 1, 1,  ..., 0, 0, 0],\n",
            "        [1, 1, 1,  ..., 0, 0, 0],\n",
            "        [1, 1, 1,  ..., 0, 0, 0]]), 'token_type_ids': tensor([[0, 0, 0,  ..., 0, 0, 0],\n",
            "        [0, 0, 0,  ..., 0, 0, 0],\n",
            "        [0, 0, 0,  ..., 0, 0, 0],\n",
            "        ...,\n",
            "        [0, 0, 0,  ..., 0, 0, 0],\n",
            "        [0, 0, 0,  ..., 0, 0, 0],\n",
            "        [0, 0, 0,  ..., 0, 0, 0]]), 'targets': tensor([127,  14, 149, 124,  46,  20,  86,  60,  25, 141, 119,  46, 109,  34,\n",
            "         16, 144])}\n"
          ],
          "name": "stdout"
        }
      ]
    },
    {
      "cell_type": "code",
      "metadata": {
        "id": "lGoya-Enm_cC"
      },
      "source": [
        "#Creating the model using the pretrained BERT model\n",
        "class BERT(nn.Module):\n",
        "\n",
        "    def __init__(self):\n",
        "        super(BERT, self).__init__()\n",
        "\n",
        "        #Bert for classification. The number of labels adds a fully connected layer on top of BERT\n",
        "        self.encoder = BertForSequenceClassification.from_pretrained(\"bert-base-uncased\",return_dict=True, num_labels=num_labels)\n",
        "\n",
        "    def forward(self, inputs, labels ):\n",
        "\n",
        "        outputs = self.encoder(inputs['input_ids'], inputs['token_type_ids'], inputs['attention_mask'], labels=labels)\n",
        "\n",
        "        return outputs\n",
        "\n",
        "\n",
        "bert_model = BERT().to(device)"
      ],
      "execution_count": null,
      "outputs": []
    },
    {
      "cell_type": "code",
      "metadata": {
        "id": "OTXF0Qe-yfCK"
      },
      "source": [
        "#Creating a weight vector for Intent labels. 0 shows out of scope label\n",
        "#For normal training all the weights are the same. However, for the imbalance case, we assign a larger weight to the out-of-scope label\n",
        "label_weights=[]\n",
        "for label in train_df['label_num'].unique():\n",
        "  if(label ==0):\n",
        "    label_weights.append(1)\n",
        "  else:\n",
        "    label_weights.append(1)  \n",
        "\n",
        "label_weights = torch.tensor(label_weights).float()"
      ],
      "execution_count": null,
      "outputs": []
    },
    {
      "cell_type": "code",
      "metadata": {
        "id": "Afjj32U3LAwE"
      },
      "source": [
        "EPOCHS = 10\n",
        "optimizer = AdamW(bert_model.parameters(), lr=2e-5, eps = 1e-8, correct_bias=False)\n",
        "#The number of steps is the number of batched file * epoch\n",
        "total_steps = len(train_loader) * EPOCHS\n",
        "\n",
        "#Hyperparameter tunning\n",
        "scheduler = get_linear_schedule_with_warmup(\n",
        "  optimizer,\n",
        "  num_warmup_steps=0,\n",
        "  num_training_steps=total_steps\n",
        ")\n",
        "\n",
        "#Cross-entripy function for the classification\n",
        "loss_fn = nn.CrossEntropyLoss( weight= label_weights).cuda()"
      ],
      "execution_count": null,
      "outputs": []
    },
    {
      "cell_type": "code",
      "metadata": {
        "id": "LA9vlGrZs8jz"
      },
      "source": [
        "def train(model, EPOCHS, label_weights):\n",
        "  inp={}\n",
        "  # training loop\n",
        "  model.train()\n",
        "\n",
        "  train_loss=[]\n",
        "  val_loss=[]\n",
        "  val_acc=[]\n",
        "  recall_scores=[]\n",
        "  for i in tqdm(range(EPOCHS)):\n",
        "      losses = []\n",
        "      correct_predictions = 0    #Number of correct predcitions\n",
        "      total_predictions=0        #Total number of predictions\n",
        "      for mini_batch in iter(train_loader):\n",
        "        inp['input_ids'] = mini_batch['input_ids'].cuda()\n",
        "        inp['token_type_ids'] = mini_batch['token_type_ids'].cuda()\n",
        "        inp['attention_mask'] = mini_batch['attention_mask'].cuda()\n",
        "        intent_labels = mini_batch['targets'].cuda()\n",
        "        \n",
        "\n",
        "        #Forward Propagation\n",
        "        optimizer.zero_grad()\n",
        "        outputs = model(inp, labels= intent_labels)\n",
        "        #print(outputs.logits.size())\n",
        "\n",
        "\n",
        "        #Predicting the class lables\n",
        "        preds = torch.argmax(outputs.logits, dim=1)\n",
        "        #print('pred:',preds)\n",
        "\n",
        "        #Computing the loss function\n",
        "        loss = loss_fn(outputs.logits, intent_labels)\n",
        "\n",
        "        correct_predictions += torch.sum(preds == intent_labels)\n",
        "        total_predictions +=  len(intent_labels)\n",
        "        losses.append(loss.item())\n",
        "\n",
        "\n",
        "        #Backward propagation\n",
        "        loss.backward()\n",
        "        #clipping the gradient norm to avoid gradient explosion\n",
        "        nn.utils.clip_grad_norm_(model.parameters(), max_norm=1.0)\n",
        "        #Update the weights\n",
        "        optimizer.step()\n",
        "        #Update the learning rates\n",
        "        scheduler.step()\n",
        "        #break\n",
        "      print(\"\\n The loss value on training:\", np.mean(losses))\n",
        "      print(\"correct predictions and total predictions:\", correct_predictions, total_predictions )\n",
        "      #print(\"Prediction accuracy on training:\", correct_predictions.double() / total_predictions )\n",
        "\n",
        "      if(i%2==0):\n",
        "        #Evaluating the model\n",
        "        loss, acc = model_eval(bert_model, val_loader, 'In-Scope')\n",
        "        rec_score = model_eval(bert_model, oos_val_loader, 'Out-Of-Scope')\n",
        "        val_loss.append(loss); val_acc.append(acc); train_loss.append(np.mean(losses)); recall_scores.append(rec_score)\n",
        "        model.train()\n",
        "\n",
        "  return  val_loss, val_acc, train_loss, recall_scores\n",
        "        #break\n",
        "\n",
        "val_loss, val_acc, train_loss, val_recall = train(bert_model, EPOCHS, label_weights) \n",
        "\n",
        "\n",
        "\n"
      ],
      "execution_count": null,
      "outputs": []
    },
    {
      "cell_type": "code",
      "metadata": {
        "id": "s2Ad2Tll-k3V",
        "outputId": "535ef6cd-5142-4169-9a3f-7c8ef924eba3",
        "colab": {
          "base_uri": "https://localhost:8080/",
          "height": 362
        }
      },
      "source": [
        "print(train_loss)\n",
        "plt.plot(range(1, EPOCHS+1), val_loss, label = 'Validation_loss')\n",
        "plt.plot(range(1, EPOCHS+1), train_loss, label = 'train_loss')\n",
        "\n",
        "\n",
        "plt.yticks(fontsize=30)\n",
        "plt.xticks(fontsize=30)\n",
        "plt.xlabel('Epoch', fontsize=20)\n",
        "plt.ylabel('Loss', fontsize=20)\n",
        "plt.legend(prop={'size': 17})\n",
        "#plt.title('BPI17',fontdict = {'fontsize' : 20})\n",
        "plt.figure()"
      ],
      "execution_count": null,
      "outputs": [
        {
          "output_type": "stream",
          "text": [
            "[4.151581699000303, 1.4230137733702963, 0.48379974221204913, 0.20175019551442205, 0.09401118366110017, 0.05222381871635247, 0.0339949026174481, 0.02375912684437714, 0.019008337320493802, 0.016568788866537953]\n"
          ],
          "name": "stdout"
        },
        {
          "output_type": "execute_result",
          "data": {
            "text/plain": [
              "<Figure size 432x288 with 0 Axes>"
            ]
          },
          "metadata": {
            "tags": []
          },
          "execution_count": 42
        },
        {
          "output_type": "display_data",
          "data": {
            "image/png": "[encoded data removed]",
            "text/plain": [
              "<Figure size 432x288 with 1 Axes>"
            ]
          },
          "metadata": {
            "tags": []
          }
        },
        {
          "output_type": "display_data",
          "data": {
            "text/plain": [
              "<Figure size 432x288 with 0 Axes>"
            ]
          },
          "metadata": {
            "tags": []
          }
        }
      ]
    },
    {
      "cell_type": "code",
      "metadata": {
        "id": "p_WwswvZLC9k",
        "outputId": "81aa6216-7512-456b-9576-ce01c396b2e0",
        "colab": {
          "base_uri": "https://localhost:8080/",
          "height": 362
        }
      },
      "source": [
        "print(train_loss)\n",
        "plt.plot(range(1, EPOCHS+1), val_acc, label = 'Validation_accuracy')\n",
        "\n",
        "plt.yticks(fontsize=30)\n",
        "plt.xticks(fontsize=30)\n",
        "plt.xlabel('Epoch', fontsize=20)\n",
        "plt.ylabel('Accuracy', fontsize=20)\n",
        "plt.legend(prop={'size': 17})\n",
        "plt.figure()"
      ],
      "execution_count": null,
      "outputs": [
        {
          "output_type": "stream",
          "text": [
            "[4.151581699000303, 1.4230137733702963, 0.48379974221204913, 0.20175019551442205, 0.09401118366110017, 0.05222381871635247, 0.0339949026174481, 0.02375912684437714, 0.019008337320493802, 0.016568788866537953]\n"
          ],
          "name": "stdout"
        },
        {
          "output_type": "execute_result",
          "data": {
            "text/plain": [
              "<Figure size 432x288 with 0 Axes>"
            ]
          },
          "metadata": {
            "tags": []
          },
          "execution_count": 44
        },
        {
          "output_type": "display_data",
          "data": {
            "image/png": "[encoded data removed]",
            "text/plain": [
              "<Figure size 432x288 with 1 Axes>"
            ]
          },
          "metadata": {
            "tags": []
          }
        },
        {
          "output_type": "display_data",
          "data": {
            "text/plain": [
              "<Figure size 432x288 with 0 Axes>"
            ]
          },
          "metadata": {
            "tags": []
          }
        }
      ]
    },
    {
      "cell_type": "code",
      "metadata": {
        "id": "iQ6ebgUmYLf3"
      },
      "source": [
        "def model_eval(model, data_loader, mode):\n",
        "  '''\n",
        "  A method for model evaluation.\n",
        "  '''\n",
        "  inp={}\n",
        "  \n",
        "  #Turning on the evaluation mode\n",
        "  model.eval()\n",
        "\n",
        "  losses = []\n",
        "  correct_predictions = 0    #Number of correct predcitions\n",
        "  total_predictions=0        #Total number of predictions\n",
        "  recall_scores=[]\n",
        "  for mini_batch in iter(data_loader):\n",
        "    inp['input_ids'] = mini_batch['input_ids'].cuda()\n",
        "    inp['token_type_ids'] = mini_batch['token_type_ids'].cuda()\n",
        "    inp['attention_mask'] = mini_batch['attention_mask'].cuda()\n",
        "    intent_labels = mini_batch['targets'].cuda()\n",
        "    \n",
        "\n",
        "    #Forward Propagation\n",
        "    outputs = model(inp, labels= intent_labels)\n",
        "    #print(outputs.logits.size())\n",
        "\n",
        "\n",
        "    #Predicting the class lables\n",
        "    preds = torch.argmax(outputs.logits, dim=1)\n",
        "\n",
        "\n",
        "    if(mode == 'In-Scope'):\n",
        "      #Computing the loss function\n",
        "      loss = loss_fn(outputs.logits, intent_labels)\n",
        "      correct_predictions += torch.sum(preds == intent_labels)\n",
        "      total_predictions +=  len(intent_labels)\n",
        "      losses.append(loss.item())\n",
        "\n",
        "    elif(mode =='Out-Of-Scope'):\n",
        "      preds[preds>0]=1\n",
        "    \n",
        "      OOS_recall = recall_score(preds.tolist(), intent_labels.tolist(), average='binary')\n",
        "      recall_scores.append(OOS_recall)\n",
        "\n",
        "\n",
        "  if(mode == 'In-Scope'):\n",
        "    print(\"\\n The loss value on evaluation:\", np.mean(losses))\n",
        "    print(\"correct predictions and total predictions on validation:\", correct_predictions, total_predictions )\n",
        "    print(\"Prediction accuracy on evaluation:\", correct_predictions.double() / total_predictions )\n",
        "    return np.mean(losses), correct_predictions.double() / total_predictions\n",
        "\n",
        "  elif(mode =='Out-Of-Scope'):\n",
        "    print(\"\\n The recall for Out-Of-Scope Intents:\", np.mean(recall_scores))\n",
        "    return np.mean(recall_scores)\n",
        "\n",
        "  \n",
        "\n",
        "\n",
        "#model_eval(bert_model, test_loader, 'In-Scope')\n",
        "model_eval(bert_model, oos_test_loader, 'Out-Of-Scope')\n",
        "\n",
        "      #break"
      ],
      "execution_count": null,
      "outputs": []
    },
    {
      "cell_type": "code",
      "metadata": {
        "id": "hpPmS3tOoTiO"
      },
      "source": [
        "torch.save(bert_model.state_dict(),'/content/drive/My Drive/Deep Learing project/bert_model(validation).m')"
      ],
      "execution_count": null,
      "outputs": []
    }
  ]
}
